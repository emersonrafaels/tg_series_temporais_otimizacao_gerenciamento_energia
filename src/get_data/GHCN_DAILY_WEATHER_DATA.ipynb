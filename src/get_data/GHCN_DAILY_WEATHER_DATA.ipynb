{
  "metadata": {
    "kernelspec": {
      "language": "python",
      "display_name": "Python 3",
      "name": "python3"
    },
    "language_info": {
      "name": "python",
      "version": "3.6.6",
      "mimetype": "text/x-python",
      "codemirror_mode": {
        "name": "ipython",
        "version": 3
      },
      "pygments_lexer": "ipython3",
      "nbconvert_exporter": "python",
      "file_extension": ".py"
    },
    "colab": {
      "provenance": []
    }
  },
  "nbformat_minor": 0,
  "nbformat": 4,
  "cells": [
    {
      "cell_type": "markdown",
      "source": [
        "### Esse código por usar a biblioteca oficial do Google Cloud Plataform (bq_helper), deve ser utilizado no datalab da Google ou no Kaggle.\n",
        "\n",
        "#### A biblioteca bq_helper, é uma ferramenta desenvolvida pelo usuário SohierDane para facilitar a interação com o Google BigQuery no ambiente Python. Ela oferece uma série de utilitários e funções para tornar mais simples o processo de consulta e manipulação de dados no BigQuery.\n",
        "\n",
        "#### Algumas características e funcionalidades principais do bq_helper:\n",
        "\n",
        "- Conexão com o BigQuery: A biblioteca permite a conexão com o serviço do Google BigQuery diretamente do Python. Isso significa que você pode executar consultas e recuperar dados do BigQuery sem sair do ambiente Python.\n",
        "\n",
        "- Sintaxe Simplificada para Consultas: O bq_helper fornece uma sintaxe simplificada para escrever e executar consultas no BigQuery. Isso pode economizar muito tempo"
      ],
      "metadata": {
        "id": "KUT7c4FV5Zl2"
      }
    },
    {
      "cell_type": "markdown",
      "source": [
        "# IMPORTANDO AS BIBLIOTECAS"
      ],
      "metadata": {
        "_uuid": "de5c8ef6d5d0ee22ec7e55b629d1c1f08d2b8efd",
        "_cell_guid": "307eb20a-56a5-43b9-832b-a76b338ad5e3",
        "id": "aewIdV9LVGzg"
      }
    },
    {
      "cell_type": "code",
      "source": [
        "import pandas as pd\n",
        "import numpy as np\n",
        "import bq_helper\n",
        "from bq_helper import BigQueryHelper"
      ],
      "metadata": {
        "id": "tUDjOBQN6ZOp"
      },
      "execution_count": null,
      "outputs": []
    },
    {
      "cell_type": "markdown",
      "source": [
        "# INSTANCIANDO O DATASET DESEJADO\n",
        "\n",
        "## O dataset está no bigquery"
      ],
      "metadata": {
        "execution": {
          "iopub.status.busy": "2023-08-18T07:35:05.884282Z",
          "iopub.execute_input": "2023-08-18T07:35:05.884884Z",
          "iopub.status.idle": "2023-08-18T07:35:05.888505Z",
          "shell.execute_reply.started": "2023-08-18T07:35:05.884833Z",
          "shell.execute_reply": "2023-08-18T07:35:05.887791Z"
        },
        "id": "fU2KE1MdVGzp"
      }
    },
    {
      "cell_type": "code",
      "source": [
        "noaa = bq_helper.BigQueryHelper(active_project=\"bigquery-public-data\",\n",
        "                                dataset_name=\"ghcn_d\")"
      ],
      "metadata": {
        "execution": {
          "iopub.status.busy": "2023-08-18T07:37:09.049774Z",
          "iopub.execute_input": "2023-08-18T07:37:09.050078Z",
          "iopub.status.idle": "2023-08-18T07:37:09.054080Z",
          "shell.execute_reply.started": "2023-08-18T07:37:09.050020Z",
          "shell.execute_reply": "2023-08-18T07:37:09.053586Z"
        },
        "trusted": true,
        "id": "o5gBg5bIVGzq"
      },
      "execution_count": null,
      "outputs": []
    },
    {
      "cell_type": "code",
      "source": [
        "noaa = bq_helper.BigQueryHelper(active_project=\"fh-bigquery\",\n",
        "                                dataset_name=\"weather_gsod\")"
      ],
      "metadata": {
        "execution": {
          "iopub.status.busy": "2023-08-18T07:37:09.064449Z",
          "iopub.execute_input": "2023-08-18T07:37:09.064703Z",
          "iopub.status.idle": "2023-08-18T07:37:09.068825Z",
          "shell.execute_reply.started": "2023-08-18T07:37:09.064666Z",
          "shell.execute_reply": "2023-08-18T07:37:09.068189Z"
        },
        "trusted": true,
        "id": "-BbRTjBlVGzr"
      },
      "execution_count": null,
      "outputs": []
    },
    {
      "cell_type": "markdown",
      "source": [
        "## OBTENDO A LISTA DE ANOS DISPONÍVEIS"
      ],
      "metadata": {
        "id": "4IAVUHbiVGzs"
      }
    },
    {
      "cell_type": "code",
      "source": [
        "bq_assistant = BigQueryHelper(\"bigquery-public-data\", \"noaa_gsod\")\n",
        "bq_assistant.list_tables()"
      ],
      "metadata": {
        "execution": {
          "iopub.status.busy": "2023-08-18T07:37:09.085852Z",
          "iopub.execute_input": "2023-08-18T07:37:09.086118Z",
          "iopub.status.idle": "2023-08-18T07:37:10.062518Z",
          "shell.execute_reply.started": "2023-08-18T07:37:09.086083Z",
          "shell.execute_reply": "2023-08-18T07:37:10.061587Z"
        },
        "trusted": true,
        "id": "t-LEYimvVGzs",
        "outputId": "8b4c5893-d5ec-4967-ddc3-863286d45e78"
      },
      "execution_count": null,
      "outputs": [
        {
          "execution_count": 63,
          "output_type": "execute_result",
          "data": {
            "text/plain": "['gsod1929',\n 'gsod1930',\n 'gsod1931',\n 'gsod1932',\n 'gsod1933',\n 'gsod1934',\n 'gsod1935',\n 'gsod1936',\n 'gsod1937',\n 'gsod1938',\n 'gsod1939',\n 'gsod1940',\n 'gsod1941',\n 'gsod1942',\n 'gsod1943',\n 'gsod1944',\n 'gsod1945',\n 'gsod1946',\n 'gsod1947',\n 'gsod1948',\n 'gsod1949',\n 'gsod1950',\n 'gsod1951',\n 'gsod1952',\n 'gsod1953',\n 'gsod1954',\n 'gsod1955',\n 'gsod1956',\n 'gsod1957',\n 'gsod1958',\n 'gsod1959',\n 'gsod1960',\n 'gsod1961',\n 'gsod1962',\n 'gsod1963',\n 'gsod1964',\n 'gsod1965',\n 'gsod1966',\n 'gsod1967',\n 'gsod1968',\n 'gsod1969',\n 'gsod1970',\n 'gsod1971',\n 'gsod1972',\n 'gsod1973',\n 'gsod1974',\n 'gsod1975',\n 'gsod1976',\n 'gsod1977',\n 'gsod1978',\n 'gsod1979',\n 'gsod1980',\n 'gsod1981',\n 'gsod1982',\n 'gsod1983',\n 'gsod1984',\n 'gsod1985',\n 'gsod1986',\n 'gsod1987',\n 'gsod1988',\n 'gsod1989',\n 'gsod1990',\n 'gsod1991',\n 'gsod1992',\n 'gsod1993',\n 'gsod1994',\n 'gsod1995',\n 'gsod1996',\n 'gsod1997',\n 'gsod1998',\n 'gsod1999',\n 'gsod2000',\n 'gsod2001',\n 'gsod2002',\n 'gsod2003',\n 'gsod2004',\n 'gsod2005',\n 'gsod2006',\n 'gsod2007',\n 'gsod2008',\n 'gsod2009',\n 'gsod2010',\n 'gsod2011',\n 'gsod2012',\n 'gsod2013',\n 'gsod2014',\n 'gsod2015',\n 'gsod2016',\n 'gsod2017',\n 'gsod2018',\n 'gsod2019',\n 'gsod2020',\n 'gsod2021',\n 'gsod2022',\n 'gsod2023',\n 'stations']"
          },
          "metadata": {}
        }
      ]
    },
    {
      "cell_type": "markdown",
      "source": [
        "# VISUALIZANDO O FORMATO DE UM DATASET\n",
        "\n",
        "## VISUALIZAREMOS O ANO DE 2023"
      ],
      "metadata": {
        "id": "1_8FgjoY6vQ1"
      }
    },
    {
      "cell_type": "code",
      "source": [
        "QUERY = \"\"\"select state, name, min(stn), min(year), mo, avg(temp), avg(min), avg(max), avg(prcp), avg(sndp) from`bigquery-public-data.noaa_gsod.stations` b JOIN `bigquery-public-data.noaa_gsod.{year}`a\n",
        "        ON a.wban=b.wban AND a.stn=b.usaf where b.country = 'BR' group by state, name, mo\"\"\".format(year='gsod2023')\n",
        "\n",
        "df_weather = bq_assistant.query_to_pandas(QUERY)\n",
        "\n",
        "df_weather"
      ],
      "metadata": {
        "execution": {
          "iopub.status.busy": "2023-08-18T07:37:10.063690Z",
          "iopub.execute_input": "2023-08-18T07:37:10.063951Z",
          "iopub.status.idle": "2023-08-18T07:37:12.118566Z",
          "shell.execute_reply.started": "2023-08-18T07:37:10.063905Z",
          "shell.execute_reply": "2023-08-18T07:37:12.117640Z"
        },
        "trusted": true,
        "id": "t_mjsnoEVGzv",
        "outputId": "ceb616d4-379f-4045-91fa-5f819f8e42c6"
      },
      "execution_count": null,
      "outputs": [
        {
          "execution_count": 64,
          "output_type": "execute_result",
          "data": {
            "text/plain": "     state                           name  ...          f5_    f6_\n0     None                      CASTANHAL  ...     0.000000  999.9\n1     None                      PREGUICAS  ...     0.003333  999.9\n2     None                      PREGUICAS  ...     0.122115  999.9\n3     None                      PREGUICAS  ...     0.131552  999.9\n4     None                      PREGUICAS  ...     0.015098  999.9\n5     None                      PREGUICAS  ...     0.089636  999.9\n6     None                          COARI  ...     0.000000  999.9\n7     None                          CAICO  ...     0.000000  999.9\n8     None                         URUCUI  ...     0.000000  999.9\n9     None                  ALTO PARNAIBA  ...     0.000000  999.9\n10    None                   SANTO ANGELO  ...    29.626667  999.9\n11    None                   SANTO ANGELO  ...    16.665000  999.9\n12    None                    SALINOPOLIS  ...     2.296939  999.9\n13    None                    SALINOPOLIS  ...     0.252586  999.9\n14    None                    SALINOPOLIS  ...     0.452222  999.9\n15    None                    SALINOPOLIS  ...     6.892955  999.9\n16    None                    SALINOPOLIS  ...     0.046316  999.9\n17    None                       MANICORE  ...     4.347391  999.9\n18    None                     IMPERATRIZ  ...     0.000000  999.9\n19    None                     IMPERATRIZ  ...     0.000000  999.9\n20    None                     IMPERATRIZ  ...    21.664500  999.9\n21    None                CRUZEIRO DO SUL  ...     9.999000  999.9\n22    None                 BACACHERI AERO  ...    79.302414  999.9\n23    None          CAMPOS DOS GOITACAZES  ...    20.687586  999.9\n24    None                SANTA CRUZ AERO  ...    26.664000  999.9\n25    None                SANTA CRUZ AERO  ...     6.895862  999.9\n26    None                       ABROLHOS  ...     0.000000  999.9\n27    None                       ABROLHOS  ...     0.000000  999.9\n28    None                       ABROLHOS  ...     0.000000  999.9\n29    None                       ABROLHOS  ...     0.000000  999.9\n...    ...                            ...  ...          ...    ...\n3430  None                      SAO BORJA  ...     0.000000  999.9\n3431  None                       GUANAMBI  ...     0.000000  999.9\n3432  None                        INDAIAL  ...     0.000000  999.9\n3433  None                         CASTRO  ...     0.000000  999.9\n3434  None                     PAULISTANA  ...     0.000000  999.9\n3435  None    MARECHAL CUNHA MACHADO INTL  ...    13.332000  999.9\n3436  None             RIO PARDO DE MINAS  ...     0.000000  999.9\n3437  None                    TRES MARIAS  ...     0.000000  999.9\n3438  None                       AGUA BOA  ...     0.000000  999.9\n3439  None             HOTEL TRANSAMERICA  ...     0.000000  999.9\n3440  None                    PORTO VELHO  ...     0.000000  999.9\n3441  None                          IPIAU  ...     0.000000  999.9\n3442  None                           JUTI  ...     0.000000  999.9\n3443  None                   GUARAMIRANGA  ...     0.000000  999.9\n3444  None             HOTEL TRANSAMERICA  ...     0.000000  999.9\n3445  None  TRINDADE (ILHA)                ...     0.000000  999.9\n3446  None                        MARILIA  ...     0.000000  999.9\n3447  None                    SANTA MARTA  ...     0.000000  999.9\n3448  None             HOTEL TRANSAMERICA  ...     0.000000  999.9\n3449  None                          BARRA  ...     0.000000  999.9\n3450  None                        ITIRUCU  ...     0.000000  999.9\n3451  None                         CASTRO  ...     0.000000  999.9\n3452  None                        MARILIA  ...     0.000000  999.9\n3453  None                 JOAQUIM TAVORA  ...     0.000000  999.9\n3454  None                       CARLINDA  ...     0.000000  999.9\n3455  None                      CALCANHAR  ...     0.000000  999.9\n3456  None  PARNAIBA PREFEITO DR JOAO SIL  ...     0.000000  999.9\n3457  None                    SAO GABRIEL  ...     0.000000  999.9\n3458  None                        MARILIA  ...     0.000000  999.9\n3459  None                   SANTA TEREZA  ...     0.000000  999.9\n\n[3460 rows x 10 columns]",
            "text/html": "<div>\n<style scoped>\n    .dataframe tbody tr th:only-of-type {\n        vertical-align: middle;\n    }\n\n    .dataframe tbody tr th {\n        vertical-align: top;\n    }\n\n    .dataframe thead th {\n        text-align: right;\n    }\n</style>\n<table border=\"1\" class=\"dataframe\">\n  <thead>\n    <tr style=\"text-align: right;\">\n      <th></th>\n      <th>state</th>\n      <th>name</th>\n      <th>f0_</th>\n      <th>f1_</th>\n      <th>mo</th>\n      <th>f2_</th>\n      <th>f3_</th>\n      <th>f4_</th>\n      <th>f5_</th>\n      <th>f6_</th>\n    </tr>\n  </thead>\n  <tbody>\n    <tr>\n      <th>0</th>\n      <td>None</td>\n      <td>CASTANHAL</td>\n      <td>816820</td>\n      <td>2023</td>\n      <td>03</td>\n      <td>78.965385</td>\n      <td>74.684615</td>\n      <td>85.330769</td>\n      <td>0.000000</td>\n      <td>999.9</td>\n    </tr>\n    <tr>\n      <th>1</th>\n      <td>None</td>\n      <td>PREGUICAS</td>\n      <td>817170</td>\n      <td>2023</td>\n      <td>08</td>\n      <td>82.129167</td>\n      <td>77.358333</td>\n      <td>90.241667</td>\n      <td>0.003333</td>\n      <td>999.9</td>\n    </tr>\n    <tr>\n      <th>2</th>\n      <td>None</td>\n      <td>PREGUICAS</td>\n      <td>817170</td>\n      <td>2023</td>\n      <td>04</td>\n      <td>80.198077</td>\n      <td>74.075000</td>\n      <td>87.803846</td>\n      <td>0.122115</td>\n      <td>999.9</td>\n    </tr>\n    <tr>\n      <th>3</th>\n      <td>None</td>\n      <td>PREGUICAS</td>\n      <td>817170</td>\n      <td>2023</td>\n      <td>03</td>\n      <td>79.232759</td>\n      <td>73.336207</td>\n      <td>86.137931</td>\n      <td>0.131552</td>\n      <td>999.9</td>\n    </tr>\n    <tr>\n      <th>4</th>\n      <td>None</td>\n      <td>PREGUICAS</td>\n      <td>817170</td>\n      <td>2023</td>\n      <td>07</td>\n      <td>82.394118</td>\n      <td>77.431373</td>\n      <td>89.270588</td>\n      <td>0.015098</td>\n      <td>999.9</td>\n    </tr>\n    <tr>\n      <th>5</th>\n      <td>None</td>\n      <td>PREGUICAS</td>\n      <td>817170</td>\n      <td>2023</td>\n      <td>05</td>\n      <td>81.478182</td>\n      <td>77.512727</td>\n      <td>88.096364</td>\n      <td>0.089636</td>\n      <td>999.9</td>\n    </tr>\n    <tr>\n      <th>6</th>\n      <td>None</td>\n      <td>COARI</td>\n      <td>817700</td>\n      <td>2023</td>\n      <td>07</td>\n      <td>84.463636</td>\n      <td>78.045455</td>\n      <td>92.945455</td>\n      <td>0.000000</td>\n      <td>999.9</td>\n    </tr>\n    <tr>\n      <th>7</th>\n      <td>None</td>\n      <td>CAICO</td>\n      <td>818750</td>\n      <td>2023</td>\n      <td>02</td>\n      <td>89.924000</td>\n      <td>79.500000</td>\n      <td>96.532000</td>\n      <td>0.000000</td>\n      <td>999.9</td>\n    </tr>\n    <tr>\n      <th>8</th>\n      <td>None</td>\n      <td>URUCUI</td>\n      <td>819050</td>\n      <td>2023</td>\n      <td>03</td>\n      <td>76.474194</td>\n      <td>69.990323</td>\n      <td>86.612903</td>\n      <td>0.000000</td>\n      <td>999.9</td>\n    </tr>\n    <tr>\n      <th>9</th>\n      <td>None</td>\n      <td>ALTO PARNAIBA</td>\n      <td>819850</td>\n      <td>2023</td>\n      <td>01</td>\n      <td>88.454545</td>\n      <td>82.009091</td>\n      <td>92.372727</td>\n      <td>0.000000</td>\n      <td>999.9</td>\n    </tr>\n    <tr>\n      <th>10</th>\n      <td>None</td>\n      <td>SANTO ANGELO</td>\n      <td>820306</td>\n      <td>2023</td>\n      <td>02</td>\n      <td>83.685185</td>\n      <td>78.000000</td>\n      <td>88.333333</td>\n      <td>29.626667</td>\n      <td>999.9</td>\n    </tr>\n    <tr>\n      <th>11</th>\n      <td>None</td>\n      <td>SANTO ANGELO</td>\n      <td>820306</td>\n      <td>2023</td>\n      <td>03</td>\n      <td>84.913333</td>\n      <td>79.100000</td>\n      <td>89.600000</td>\n      <td>16.665000</td>\n      <td>999.9</td>\n    </tr>\n    <tr>\n      <th>12</th>\n      <td>None</td>\n      <td>SALINOPOLIS</td>\n      <td>816600</td>\n      <td>2023</td>\n      <td>02</td>\n      <td>78.302041</td>\n      <td>74.032653</td>\n      <td>83.683673</td>\n      <td>2.296939</td>\n      <td>999.9</td>\n    </tr>\n    <tr>\n      <th>13</th>\n      <td>None</td>\n      <td>SALINOPOLIS</td>\n      <td>816600</td>\n      <td>2023</td>\n      <td>01</td>\n      <td>79.274138</td>\n      <td>75.362069</td>\n      <td>83.894828</td>\n      <td>0.252586</td>\n      <td>999.9</td>\n    </tr>\n    <tr>\n      <th>14</th>\n      <td>None</td>\n      <td>SALINOPOLIS</td>\n      <td>821430</td>\n      <td>2023</td>\n      <td>04</td>\n      <td>80.385185</td>\n      <td>76.266667</td>\n      <td>84.866667</td>\n      <td>0.452222</td>\n      <td>999.9</td>\n    </tr>\n    <tr>\n      <th>15</th>\n      <td>None</td>\n      <td>SALINOPOLIS</td>\n      <td>816600</td>\n      <td>2023</td>\n      <td>06</td>\n      <td>80.547727</td>\n      <td>75.347727</td>\n      <td>86.286364</td>\n      <td>6.892955</td>\n      <td>999.9</td>\n    </tr>\n    <tr>\n      <th>16</th>\n      <td>None</td>\n      <td>SALINOPOLIS</td>\n      <td>816600</td>\n      <td>2023</td>\n      <td>07</td>\n      <td>80.517544</td>\n      <td>76.131579</td>\n      <td>85.564912</td>\n      <td>0.046316</td>\n      <td>999.9</td>\n    </tr>\n    <tr>\n      <th>17</th>\n      <td>None</td>\n      <td>MANICORE</td>\n      <td>825330</td>\n      <td>2023</td>\n      <td>07</td>\n      <td>88.852174</td>\n      <td>510.934783</td>\n      <td>93.121739</td>\n      <td>4.347391</td>\n      <td>999.9</td>\n    </tr>\n    <tr>\n      <th>18</th>\n      <td>None</td>\n      <td>IMPERATRIZ</td>\n      <td>818220</td>\n      <td>2023</td>\n      <td>06</td>\n      <td>82.368966</td>\n      <td>72.205172</td>\n      <td>93.820690</td>\n      <td>0.000000</td>\n      <td>999.9</td>\n    </tr>\n    <tr>\n      <th>19</th>\n      <td>None</td>\n      <td>IMPERATRIZ</td>\n      <td>818220</td>\n      <td>2023</td>\n      <td>08</td>\n      <td>82.790000</td>\n      <td>70.123333</td>\n      <td>97.263333</td>\n      <td>0.000000</td>\n      <td>999.9</td>\n    </tr>\n    <tr>\n      <th>20</th>\n      <td>None</td>\n      <td>IMPERATRIZ</td>\n      <td>818220</td>\n      <td>2023</td>\n      <td>03</td>\n      <td>78.748333</td>\n      <td>73.730000</td>\n      <td>86.668333</td>\n      <td>21.664500</td>\n      <td>999.9</td>\n    </tr>\n    <tr>\n      <th>21</th>\n      <td>None</td>\n      <td>CRUZEIRO DO SUL</td>\n      <td>827040</td>\n      <td>2023</td>\n      <td>07</td>\n      <td>82.776667</td>\n      <td>72.800000</td>\n      <td>91.160000</td>\n      <td>9.999000</td>\n      <td>999.9</td>\n    </tr>\n    <tr>\n      <th>22</th>\n      <td>None</td>\n      <td>BACACHERI AERO</td>\n      <td>830110</td>\n      <td>2023</td>\n      <td>01</td>\n      <td>71.365517</td>\n      <td>65.068966</td>\n      <td>76.772414</td>\n      <td>79.302414</td>\n      <td>999.9</td>\n    </tr>\n    <tr>\n      <th>23</th>\n      <td>None</td>\n      <td>CAMPOS DOS GOITACAZES</td>\n      <td>831030</td>\n      <td>2023</td>\n      <td>04</td>\n      <td>78.703448</td>\n      <td>73.737931</td>\n      <td>83.196552</td>\n      <td>20.687586</td>\n      <td>999.9</td>\n    </tr>\n    <tr>\n      <th>24</th>\n      <td>None</td>\n      <td>SANTA CRUZ AERO</td>\n      <td>831150</td>\n      <td>2023</td>\n      <td>08</td>\n      <td>72.313333</td>\n      <td>65.920000</td>\n      <td>81.853333</td>\n      <td>26.664000</td>\n      <td>999.9</td>\n    </tr>\n    <tr>\n      <th>25</th>\n      <td>None</td>\n      <td>SANTA CRUZ AERO</td>\n      <td>831150</td>\n      <td>2023</td>\n      <td>06</td>\n      <td>70.568966</td>\n      <td>63.196552</td>\n      <td>79.968966</td>\n      <td>6.895862</td>\n      <td>999.9</td>\n    </tr>\n    <tr>\n      <th>26</th>\n      <td>None</td>\n      <td>ABROLHOS</td>\n      <td>834990</td>\n      <td>2023</td>\n      <td>05</td>\n      <td>78.623077</td>\n      <td>76.100000</td>\n      <td>81.153846</td>\n      <td>0.000000</td>\n      <td>999.9</td>\n    </tr>\n    <tr>\n      <th>27</th>\n      <td>None</td>\n      <td>ABROLHOS</td>\n      <td>834990</td>\n      <td>2023</td>\n      <td>03</td>\n      <td>81.780000</td>\n      <td>77.180000</td>\n      <td>86.090000</td>\n      <td>0.000000</td>\n      <td>999.9</td>\n    </tr>\n    <tr>\n      <th>28</th>\n      <td>None</td>\n      <td>ABROLHOS</td>\n      <td>834990</td>\n      <td>2023</td>\n      <td>08</td>\n      <td>77.000000</td>\n      <td>74.092308</td>\n      <td>80.184615</td>\n      <td>0.000000</td>\n      <td>999.9</td>\n    </tr>\n    <tr>\n      <th>29</th>\n      <td>None</td>\n      <td>ABROLHOS</td>\n      <td>834990</td>\n      <td>2023</td>\n      <td>04</td>\n      <td>81.152000</td>\n      <td>78.152000</td>\n      <td>84.416000</td>\n      <td>0.000000</td>\n      <td>999.9</td>\n    </tr>\n    <tr>\n      <th>...</th>\n      <td>...</td>\n      <td>...</td>\n      <td>...</td>\n      <td>...</td>\n      <td>...</td>\n      <td>...</td>\n      <td>...</td>\n      <td>...</td>\n      <td>...</td>\n      <td>...</td>\n    </tr>\n    <tr>\n      <th>3430</th>\n      <td>None</td>\n      <td>SAO BORJA</td>\n      <td>869600</td>\n      <td>2023</td>\n      <td>08</td>\n      <td>60.357143</td>\n      <td>51.400000</td>\n      <td>70.957143</td>\n      <td>0.000000</td>\n      <td>999.9</td>\n    </tr>\n    <tr>\n      <th>3431</th>\n      <td>None</td>\n      <td>GUANAMBI</td>\n      <td>866940</td>\n      <td>2023</td>\n      <td>08</td>\n      <td>75.853333</td>\n      <td>66.733333</td>\n      <td>88.053333</td>\n      <td>0.000000</td>\n      <td>999.9</td>\n    </tr>\n    <tr>\n      <th>3432</th>\n      <td>None</td>\n      <td>INDAIAL</td>\n      <td>869460</td>\n      <td>2023</td>\n      <td>08</td>\n      <td>64.100000</td>\n      <td>59.126667</td>\n      <td>73.766667</td>\n      <td>0.000000</td>\n      <td>999.9</td>\n    </tr>\n    <tr>\n      <th>3433</th>\n      <td>None</td>\n      <td>CASTRO</td>\n      <td>869210</td>\n      <td>2023</td>\n      <td>08</td>\n      <td>56.866667</td>\n      <td>49.866667</td>\n      <td>65.922222</td>\n      <td>0.000000</td>\n      <td>999.9</td>\n    </tr>\n    <tr>\n      <th>3434</th>\n      <td>None</td>\n      <td>PAULISTANA</td>\n      <td>819500</td>\n      <td>2023</td>\n      <td>08</td>\n      <td>80.186667</td>\n      <td>70.680000</td>\n      <td>91.273333</td>\n      <td>0.000000</td>\n      <td>999.9</td>\n    </tr>\n    <tr>\n      <th>3435</th>\n      <td>None</td>\n      <td>MARECHAL CUNHA MACHADO INTL</td>\n      <td>822810</td>\n      <td>2023</td>\n      <td>08</td>\n      <td>81.353333</td>\n      <td>76.480000</td>\n      <td>88.486667</td>\n      <td>13.332000</td>\n      <td>999.9</td>\n    </tr>\n    <tr>\n      <th>3436</th>\n      <td>None</td>\n      <td>RIO PARDO DE MINAS</td>\n      <td>867210</td>\n      <td>2023</td>\n      <td>08</td>\n      <td>65.500000</td>\n      <td>53.993333</td>\n      <td>80.913333</td>\n      <td>0.000000</td>\n      <td>999.9</td>\n    </tr>\n    <tr>\n      <th>3437</th>\n      <td>None</td>\n      <td>TRES MARIAS</td>\n      <td>867790</td>\n      <td>2023</td>\n      <td>08</td>\n      <td>70.593333</td>\n      <td>59.953333</td>\n      <td>83.260000</td>\n      <td>0.000000</td>\n      <td>999.9</td>\n    </tr>\n    <tr>\n      <th>3438</th>\n      <td>None</td>\n      <td>AGUA BOA</td>\n      <td>866860</td>\n      <td>2023</td>\n      <td>05</td>\n      <td>86.566667</td>\n      <td>81.600000</td>\n      <td>89.000000</td>\n      <td>0.000000</td>\n      <td>999.9</td>\n    </tr>\n    <tr>\n      <th>3439</th>\n      <td>None</td>\n      <td>HOTEL TRANSAMERICA</td>\n      <td>821080</td>\n      <td>2023</td>\n      <td>02</td>\n      <td>85.775000</td>\n      <td>83.300000</td>\n      <td>87.350000</td>\n      <td>0.000000</td>\n      <td>999.9</td>\n    </tr>\n    <tr>\n      <th>3440</th>\n      <td>None</td>\n      <td>PORTO VELHO</td>\n      <td>819320</td>\n      <td>2023</td>\n      <td>08</td>\n      <td>76.986667</td>\n      <td>71.153333</td>\n      <td>92.353333</td>\n      <td>0.000000</td>\n      <td>999.9</td>\n    </tr>\n    <tr>\n      <th>3441</th>\n      <td>None</td>\n      <td>IPIAU</td>\n      <td>866980</td>\n      <td>2023</td>\n      <td>05</td>\n      <td>76.000000</td>\n      <td>68.300000</td>\n      <td>87.200000</td>\n      <td>0.000000</td>\n      <td>999.9</td>\n    </tr>\n    <tr>\n      <th>3442</th>\n      <td>None</td>\n      <td>JUTI</td>\n      <td>868590</td>\n      <td>2023</td>\n      <td>05</td>\n      <td>65.450000</td>\n      <td>63.050000</td>\n      <td>69.000000</td>\n      <td>0.000000</td>\n      <td>999.9</td>\n    </tr>\n    <tr>\n      <th>3443</th>\n      <td>None</td>\n      <td>GUARAMIRANGA</td>\n      <td>817970</td>\n      <td>2023</td>\n      <td>05</td>\n      <td>68.100000</td>\n      <td>63.300000</td>\n      <td>73.050000</td>\n      <td>0.000000</td>\n      <td>999.9</td>\n    </tr>\n    <tr>\n      <th>3444</th>\n      <td>None</td>\n      <td>HOTEL TRANSAMERICA</td>\n      <td>821080</td>\n      <td>2023</td>\n      <td>06</td>\n      <td>80.928571</td>\n      <td>77.000000</td>\n      <td>82.914286</td>\n      <td>0.000000</td>\n      <td>999.9</td>\n    </tr>\n    <tr>\n      <th>3445</th>\n      <td>None</td>\n      <td>TRINDADE (ILHA)</td>\n      <td>836500</td>\n      <td>2023</td>\n      <td>02</td>\n      <td>82.800000</td>\n      <td>78.800000</td>\n      <td>84.200000</td>\n      <td>0.000000</td>\n      <td>999.9</td>\n    </tr>\n    <tr>\n      <th>3446</th>\n      <td>None</td>\n      <td>MARILIA</td>\n      <td>820305</td>\n      <td>2023</td>\n      <td>06</td>\n      <td>63.500000</td>\n      <td>60.800000</td>\n      <td>66.200000</td>\n      <td>0.000000</td>\n      <td>999.9</td>\n    </tr>\n    <tr>\n      <th>3447</th>\n      <td>None</td>\n      <td>SANTA MARTA</td>\n      <td>839250</td>\n      <td>2023</td>\n      <td>06</td>\n      <td>69.900000</td>\n      <td>69.100000</td>\n      <td>71.600000</td>\n      <td>0.000000</td>\n      <td>999.9</td>\n    </tr>\n    <tr>\n      <th>3448</th>\n      <td>None</td>\n      <td>HOTEL TRANSAMERICA</td>\n      <td>821080</td>\n      <td>2023</td>\n      <td>08</td>\n      <td>80.225000</td>\n      <td>77.450000</td>\n      <td>81.950000</td>\n      <td>0.000000</td>\n      <td>999.9</td>\n    </tr>\n    <tr>\n      <th>3449</th>\n      <td>None</td>\n      <td>BARRA</td>\n      <td>866340</td>\n      <td>2023</td>\n      <td>01</td>\n      <td>79.560000</td>\n      <td>70.620000</td>\n      <td>87.220000</td>\n      <td>0.000000</td>\n      <td>999.9</td>\n    </tr>\n    <tr>\n      <th>3450</th>\n      <td>None</td>\n      <td>ITIRUCU</td>\n      <td>866740</td>\n      <td>2023</td>\n      <td>05</td>\n      <td>70.566667</td>\n      <td>62.700000</td>\n      <td>83.200000</td>\n      <td>0.000000</td>\n      <td>999.9</td>\n    </tr>\n    <tr>\n      <th>3451</th>\n      <td>None</td>\n      <td>CASTRO</td>\n      <td>869210</td>\n      <td>2023</td>\n      <td>07</td>\n      <td>57.100000</td>\n      <td>49.275000</td>\n      <td>63.800000</td>\n      <td>0.000000</td>\n      <td>999.9</td>\n    </tr>\n    <tr>\n      <th>3452</th>\n      <td>None</td>\n      <td>MARILIA</td>\n      <td>820305</td>\n      <td>2023</td>\n      <td>04</td>\n      <td>77.200000</td>\n      <td>74.300000</td>\n      <td>79.700000</td>\n      <td>0.000000</td>\n      <td>999.9</td>\n    </tr>\n    <tr>\n      <th>3453</th>\n      <td>None</td>\n      <td>JOAQUIM TAVORA</td>\n      <td>869030</td>\n      <td>2023</td>\n      <td>08</td>\n      <td>73.200000</td>\n      <td>63.550000</td>\n      <td>77.825000</td>\n      <td>0.000000</td>\n      <td>999.9</td>\n    </tr>\n    <tr>\n      <th>3454</th>\n      <td>None</td>\n      <td>CARLINDA</td>\n      <td>819780</td>\n      <td>2023</td>\n      <td>03</td>\n      <td>76.300000</td>\n      <td>70.300000</td>\n      <td>89.600000</td>\n      <td>0.000000</td>\n      <td>999.9</td>\n    </tr>\n    <tr>\n      <th>3455</th>\n      <td>None</td>\n      <td>CALCANHAR</td>\n      <td>825950</td>\n      <td>2023</td>\n      <td>05</td>\n      <td>83.800000</td>\n      <td>73.400000</td>\n      <td>86.000000</td>\n      <td>0.000000</td>\n      <td>999.9</td>\n    </tr>\n    <tr>\n      <th>3456</th>\n      <td>None</td>\n      <td>PARNAIBA PREFEITO DR JOAO SIL</td>\n      <td>822880</td>\n      <td>2023</td>\n      <td>06</td>\n      <td>83.800000</td>\n      <td>82.400000</td>\n      <td>89.600000</td>\n      <td>0.000000</td>\n      <td>999.9</td>\n    </tr>\n    <tr>\n      <th>3457</th>\n      <td>None</td>\n      <td>SAO GABRIEL</td>\n      <td>869840</td>\n      <td>2023</td>\n      <td>07</td>\n      <td>76.425000</td>\n      <td>73.375000</td>\n      <td>78.325000</td>\n      <td>0.000000</td>\n      <td>999.9</td>\n    </tr>\n    <tr>\n      <th>3458</th>\n      <td>None</td>\n      <td>MARILIA</td>\n      <td>820305</td>\n      <td>2023</td>\n      <td>05</td>\n      <td>68.700000</td>\n      <td>66.200000</td>\n      <td>69.800000</td>\n      <td>0.000000</td>\n      <td>999.9</td>\n    </tr>\n    <tr>\n      <th>3459</th>\n      <td>None</td>\n      <td>SANTA TEREZA</td>\n      <td>868040</td>\n      <td>2023</td>\n      <td>05</td>\n      <td>62.900000</td>\n      <td>60.400000</td>\n      <td>69.100000</td>\n      <td>0.000000</td>\n      <td>999.9</td>\n    </tr>\n  </tbody>\n</table>\n<p>3460 rows × 10 columns</p>\n</div>"
          },
          "metadata": {}
        }
      ]
    },
    {
      "cell_type": "markdown",
      "source": [
        "# OBTENDO O CONJUNTO DE DADOS"
      ],
      "metadata": {
        "id": "xJI-xXHcVGzu"
      }
    },
    {
      "cell_type": "code",
      "source": [
        "# INICIANDO O DATAFRAME\n",
        "df = pd.DataFrame()\n",
        "\n",
        "for year in bq_assistant.list_tables():\n",
        "\n",
        "    try:\n",
        "        print(\"ANO ATUAL: {}\".format(year))\n",
        "\n",
        "        QUERY = \"\"\"select state, name, min(stn), min(year), mo, avg(temp), avg(min), avg(max), avg(prcp), avg(sndp) from`bigquery-public-data.noaa_gsod.stations` b JOIN `bigquery-public-data.noaa_gsod.{year}`a\n",
        "        ON a.wban=b.wban AND a.stn=b.usaf where b.country = 'BR' group by state, name, mo\"\"\".format(year=year)\n",
        "\n",
        "        df_weather = bq_assistant.query_to_pandas(QUERY)\n",
        "\n",
        "        df = pd.concat([df, df_weather])\n",
        "    except Exception as ex:\n",
        "        print(ex)"
      ],
      "metadata": {
        "execution": {
          "iopub.status.busy": "2023-08-18T07:37:12.120070Z",
          "iopub.execute_input": "2023-08-18T07:37:12.120449Z",
          "iopub.status.idle": "2023-08-18T07:39:20.233896Z",
          "shell.execute_reply.started": "2023-08-18T07:37:12.120377Z",
          "shell.execute_reply": "2023-08-18T07:39:20.232927Z"
        },
        "trusted": true,
        "id": "1GllxxrRVGzx",
        "outputId": "d72feda4-6668-4a66-acef-696fedc73c83"
      },
      "execution_count": null,
      "outputs": [
        {
          "name": "stdout",
          "text": "ANO ATUAL: gsod1929\nANO ATUAL: gsod1930\nANO ATUAL: gsod1931\nANO ATUAL: gsod1932\nANO ATUAL: gsod1933\nANO ATUAL: gsod1934\nANO ATUAL: gsod1935\nANO ATUAL: gsod1936\nANO ATUAL: gsod1937\nANO ATUAL: gsod1938\nANO ATUAL: gsod1939\nANO ATUAL: gsod1940\nANO ATUAL: gsod1941\nANO ATUAL: gsod1942\nANO ATUAL: gsod1943\nANO ATUAL: gsod1944\nANO ATUAL: gsod1945\nANO ATUAL: gsod1946\nANO ATUAL: gsod1947\nANO ATUAL: gsod1948\nANO ATUAL: gsod1949\nANO ATUAL: gsod1950\nANO ATUAL: gsod1951\nANO ATUAL: gsod1952\nANO ATUAL: gsod1953\nANO ATUAL: gsod1954\nANO ATUAL: gsod1955\nANO ATUAL: gsod1956\nANO ATUAL: gsod1957\nANO ATUAL: gsod1958\nANO ATUAL: gsod1959\nANO ATUAL: gsod1960\nANO ATUAL: gsod1961\nANO ATUAL: gsod1962\nANO ATUAL: gsod1963\nANO ATUAL: gsod1964\nANO ATUAL: gsod1965\nANO ATUAL: gsod1966\nANO ATUAL: gsod1967\nANO ATUAL: gsod1968\nANO ATUAL: gsod1969\nANO ATUAL: gsod1970\nANO ATUAL: gsod1971\nANO ATUAL: gsod1972\nANO ATUAL: gsod1973\nANO ATUAL: gsod1974\nANO ATUAL: gsod1975\nANO ATUAL: gsod1976\nANO ATUAL: gsod1977\nANO ATUAL: gsod1978\nANO ATUAL: gsod1979\nANO ATUAL: gsod1980\nANO ATUAL: gsod1981\nANO ATUAL: gsod1982\nANO ATUAL: gsod1983\nANO ATUAL: gsod1984\nANO ATUAL: gsod1985\nANO ATUAL: gsod1986\nANO ATUAL: gsod1987\nANO ATUAL: gsod1988\nANO ATUAL: gsod1989\nANO ATUAL: gsod1990\nANO ATUAL: gsod1991\nANO ATUAL: gsod1992\nANO ATUAL: gsod1993\nANO ATUAL: gsod1994\nANO ATUAL: gsod1995\nANO ATUAL: gsod1996\nANO ATUAL: gsod1997\nANO ATUAL: gsod1998\nANO ATUAL: gsod1999\nANO ATUAL: gsod2000\nANO ATUAL: gsod2001\nANO ATUAL: gsod2002\nANO ATUAL: gsod2003\nANO ATUAL: gsod2004\nANO ATUAL: gsod2005\nANO ATUAL: gsod2006\nANO ATUAL: gsod2007\nANO ATUAL: gsod2008\nANO ATUAL: gsod2009\nANO ATUAL: gsod2010\nANO ATUAL: gsod2011\nANO ATUAL: gsod2012\nANO ATUAL: gsod2013\nANO ATUAL: gsod2014\nANO ATUAL: gsod2015\nANO ATUAL: gsod2016\nANO ATUAL: gsod2017\nANO ATUAL: gsod2018\nANO ATUAL: gsod2019\nANO ATUAL: gsod2020\nANO ATUAL: gsod2021\nANO ATUAL: gsod2022\nANO ATUAL: gsod2023\nANO ATUAL: stations\n400 Name stn not found inside a at [2:32]\n",
          "output_type": "stream"
        }
      ]
    },
    {
      "cell_type": "code",
      "source": [
        "df.columns = ['state', 'name', 'station', 'year', 'month', 'avg_temp', 'avg_min_temp', 'avg_max_temp', 'avg_prcp', 'avg_snow_depth']"
      ],
      "metadata": {
        "execution": {
          "iopub.status.busy": "2023-08-18T07:39:20.235359Z",
          "iopub.execute_input": "2023-08-18T07:39:20.235735Z",
          "iopub.status.idle": "2023-08-18T07:39:20.240834Z",
          "shell.execute_reply.started": "2023-08-18T07:39:20.235666Z",
          "shell.execute_reply": "2023-08-18T07:39:20.239976Z"
        },
        "trusted": true,
        "id": "6Zw7D29cVGzy"
      },
      "execution_count": null,
      "outputs": []
    },
    {
      "cell_type": "code",
      "source": [
        "df.head()"
      ],
      "metadata": {
        "execution": {
          "iopub.status.busy": "2023-08-18T07:39:20.242112Z",
          "iopub.execute_input": "2023-08-18T07:39:20.242621Z",
          "iopub.status.idle": "2023-08-18T07:39:20.282476Z",
          "shell.execute_reply.started": "2023-08-18T07:39:20.242535Z",
          "shell.execute_reply": "2023-08-18T07:39:20.281769Z"
        },
        "trusted": true,
        "id": "yL7A94U3VGzz",
        "outputId": "378ff762-6d58-493c-b73a-a1116d35c3d0"
      },
      "execution_count": null,
      "outputs": [
        {
          "execution_count": 67,
          "output_type": "execute_result",
          "data": {
            "text/plain": "  state      ...       avg_snow_depth\n0  None      ...                999.9\n1  None      ...                999.9\n2  None      ...                999.9\n0  None      ...                999.9\n1  None      ...                999.9\n\n[5 rows x 10 columns]",
            "text/html": "<div>\n<style scoped>\n    .dataframe tbody tr th:only-of-type {\n        vertical-align: middle;\n    }\n\n    .dataframe tbody tr th {\n        vertical-align: top;\n    }\n\n    .dataframe thead th {\n        text-align: right;\n    }\n</style>\n<table border=\"1\" class=\"dataframe\">\n  <thead>\n    <tr style=\"text-align: right;\">\n      <th></th>\n      <th>state</th>\n      <th>name</th>\n      <th>station</th>\n      <th>year</th>\n      <th>month</th>\n      <th>avg_temp</th>\n      <th>avg_min_temp</th>\n      <th>avg_max_temp</th>\n      <th>avg_prcp</th>\n      <th>avg_snow_depth</th>\n    </tr>\n  </thead>\n  <tbody>\n    <tr>\n      <th>0</th>\n      <td>None</td>\n      <td>VAL DE CANS INTL</td>\n      <td>821930</td>\n      <td>1942</td>\n      <td>10</td>\n      <td>79.445161</td>\n      <td>72.151613</td>\n      <td>88.512903</td>\n      <td>45.156774</td>\n      <td>999.9</td>\n    </tr>\n    <tr>\n      <th>1</th>\n      <td>None</td>\n      <td>VAL DE CANS INTL</td>\n      <td>821930</td>\n      <td>1942</td>\n      <td>11</td>\n      <td>80.116667</td>\n      <td>72.373333</td>\n      <td>89.940000</td>\n      <td>23.331000</td>\n      <td>999.9</td>\n    </tr>\n    <tr>\n      <th>2</th>\n      <td>None</td>\n      <td>VAL DE CANS INTL</td>\n      <td>821930</td>\n      <td>1942</td>\n      <td>12</td>\n      <td>78.722581</td>\n      <td>72.529032</td>\n      <td>88.332258</td>\n      <td>67.735161</td>\n      <td>999.9</td>\n    </tr>\n    <tr>\n      <th>0</th>\n      <td>None</td>\n      <td>PARNAIBA PREFEITO DR JOAO SIL</td>\n      <td>822880</td>\n      <td>1943</td>\n      <td>07</td>\n      <td>83.751613</td>\n      <td>76.283871</td>\n      <td>89.893548</td>\n      <td>6.450968</td>\n      <td>999.9</td>\n    </tr>\n    <tr>\n      <th>1</th>\n      <td>None</td>\n      <td>PARNAIBA PREFEITO DR JOAO SIL</td>\n      <td>822880</td>\n      <td>1943</td>\n      <td>05</td>\n      <td>83.505000</td>\n      <td>76.020000</td>\n      <td>88.870000</td>\n      <td>34.996500</td>\n      <td>999.9</td>\n    </tr>\n  </tbody>\n</table>\n</div>"
          },
          "metadata": {}
        }
      ]
    },
    {
      "cell_type": "markdown",
      "source": [
        "# PÓS-PROCESSAMENTO"
      ],
      "metadata": {
        "id": "RTCG9_Y6VGz0"
      }
    },
    {
      "cell_type": "code",
      "source": [
        "df = df.replace(999.9, np.nan)"
      ],
      "metadata": {
        "execution": {
          "iopub.status.busy": "2023-08-18T07:39:20.284285Z",
          "iopub.execute_input": "2023-08-18T07:39:20.284817Z",
          "iopub.status.idle": "2023-08-18T07:39:20.363557Z",
          "shell.execute_reply.started": "2023-08-18T07:39:20.284770Z",
          "shell.execute_reply": "2023-08-18T07:39:20.362777Z"
        },
        "trusted": true,
        "id": "ZIJuk_NdVGz0"
      },
      "execution_count": null,
      "outputs": []
    },
    {
      "cell_type": "markdown",
      "source": [
        "# EXPORTANDO O RESULTADO"
      ],
      "metadata": {
        "id": "LgQrUi-UVGz0"
      }
    },
    {
      "cell_type": "code",
      "source": [
        "df.to_csv('weather.csv', index=False)"
      ],
      "metadata": {
        "execution": {
          "iopub.status.busy": "2023-08-18T07:39:20.365001Z",
          "iopub.execute_input": "2023-08-18T07:39:20.365652Z",
          "iopub.status.idle": "2023-08-18T07:39:21.536606Z",
          "shell.execute_reply.started": "2023-08-18T07:39:20.365592Z",
          "shell.execute_reply": "2023-08-18T07:39:21.535446Z"
        },
        "trusted": true,
        "id": "ORldJ2K0VGz1"
      },
      "execution_count": null,
      "outputs": []
    }
  ]
}