{
  "cells": [
    {
      "cell_type": "markdown",
      "source": [
        "# IMPORTANDO AS BIBLIOTECAS"
      ],
      "metadata": {
        "id": "iI4hBdBPY2U1"
      }
    },
    {
      "cell_type": "code",
      "execution_count": 15,
      "metadata": {
        "id": "oCFC9v1JYttF"
      },
      "outputs": [],
      "source": [
        "from os import path, listdir\n",
        "from pathlib import Path\n",
        "from inspect import stack"
      ]
    },
    {
      "cell_type": "code",
      "execution_count": 16,
      "metadata": {
        "id": "vkouZTeBYttJ"
      },
      "outputs": [],
      "source": [
        "import pandas as pd"
      ]
    },
    {
      "cell_type": "code",
      "execution_count": 17,
      "metadata": {
        "id": "YKe6fnHHYttK"
      },
      "outputs": [],
      "source": [
        "import matplotlib.pyplot as plt\n",
        "import seaborn as sns\n",
        "import plotly.express as px"
      ]
    },
    {
      "cell_type": "markdown",
      "source": [
        "# DEFININDO OPÇÕES GLOBAIS"
      ],
      "metadata": {
        "id": "gb0hGQrqY95E"
      }
    },
    {
      "cell_type": "code",
      "execution_count": 18,
      "metadata": {
        "id": "Dn-75AJlYttL"
      },
      "outputs": [],
      "source": [
        "pd.set_option('display.max_columns', None)"
      ]
    },
    {
      "cell_type": "code",
      "execution_count": 19,
      "metadata": {
        "colab": {
          "base_uri": "https://localhost:8080/",
          "height": 54
        },
        "id": "cR0hoIwHYttL",
        "outputId": "428eefe3-ab9d-4e69-eddd-45b50c2312ea"
      },
      "outputs": [
        {
          "output_type": "execute_result",
          "data": {
            "text/plain": [
              "<Figure size 1200x800 with 0 Axes>"
            ]
          },
          "metadata": {},
          "execution_count": 19
        },
        {
          "output_type": "display_data",
          "data": {
            "text/plain": [
              "<Figure size 1200x800 with 0 Axes>"
            ]
          },
          "metadata": {}
        }
      ],
      "source": [
        "plt.figure(figsize=(12, 8))"
      ]
    },
    {
      "cell_type": "code",
      "source": [
        "pd.set_option('display.max_rows', 500)\n",
        "pd.set_option('display.max_columns', 500)\n",
        "pd.set_option('display.width', 1000)"
      ],
      "metadata": {
        "id": "OBvKpj5gZCQU"
      },
      "execution_count": 20,
      "outputs": []
    },
    {
      "cell_type": "markdown",
      "metadata": {
        "id": "BJkePW60YttN"
      },
      "source": [
        "# FUNÇÕES ÚTEIS"
      ]
    },
    {
      "cell_type": "code",
      "execution_count": 21,
      "metadata": {
        "id": "BbSHX48GYttP"
      },
      "outputs": [],
      "source": [
        "def get_files_directory(path_dir, specific_type=None):\n",
        "\n",
        "    \"\"\"\n",
        "\n",
        "        FUNÇÃO PARA OBTER ARQUIVOS DE UM DIRETÓRIO.\n",
        "\n",
        "        É POSSÍVEL ENVIAR UM FORMATO ESPECÍFICO PARA\n",
        "        FILTRO DO FORMATO DE ARQUIVO DESEJADO.\n",
        "        EX: OBTER APENAS XLSX\n",
        "\n",
        "        # Arguments\n",
        "            path_dir                   - Required : Diretório analisado (String)\n",
        "            specific_type              - Optional : Lista com os formatos desejados (List)\n",
        "\n",
        "        # Returns\n",
        "            list_files                 - Required : Arquivos do diretório (List)\n",
        "\n",
        "    \"\"\"\n",
        "\n",
        "    # INICIANDO A VARIÁVEL QUE ARMAZENARÁ TODOS OS ARQUIVOS DO DIRETÓRIO\n",
        "    list_files = []\n",
        "\n",
        "    # OBTENDO TODOS OS ARQUIVOS\n",
        "    try:\n",
        "\n",
        "        # VERIFICANDO SE É DIRETÓRIO\n",
        "        if path.isdir(path_dir):\n",
        "\n",
        "            # OBTENDO TODOS OS ARQUIVOS EXISTENTES NO ARQUIVO\n",
        "            list_files = [path.join(path_dir, name) for name in listdir(path_dir)]\n",
        "\n",
        "            # VERIFICANDO SE UMA EXTENSÃO ESPECÍFICA FOI DEFINIDA\n",
        "            if specific_type:\n",
        "\n",
        "              # VERIFICANDO SE A EXTENSÃO É DO TIPO TUPLE/LIST\n",
        "              if not isinstance(specific_type, (tuple, list)):\n",
        "                  specific_type = [specific_type]\n",
        "\n",
        "              print(\"FILTRANDO PARA AS EXTENSÕES: {}\".format(specific_type))\n",
        "\n",
        "              # FILTRANDO OS VALORES DA LISTA\n",
        "              list_files = [arq for arq in list_files if (Path(arq).suffix in (specific_type) or str(Path(arq).suffix).replace(\".\", \"\") in (specific_type))]\n",
        "\n",
        "        else:\n",
        "            list_files = [path_dir]\n",
        "\n",
        "    except Exception as ex:\n",
        "        print(\"ERRO NA FUNÇÃO: {} - {}\".format(stack()[0][3], ex))\n",
        "\n",
        "    return list_files"
      ]
    },
    {
      "cell_type": "markdown",
      "source": [
        "# VARIÁVEIS GLOBAIS"
      ],
      "metadata": {
        "id": "FhrRCRbaOxKV"
      }
    },
    {
      "cell_type": "code",
      "source": [
        "# DIRETÓRIO ONDE ESTÃO OS DADOS\n",
        "data_dir = 'data/DATASETS_GHCN_MONTHLY'\n",
        "\n",
        "# FORMATO DESEJADO\n",
        "specific_type = \"csv\""
      ],
      "metadata": {
        "id": "x7G7jYlgOzvu"
      },
      "execution_count": 22,
      "outputs": []
    },
    {
      "cell_type": "code",
      "source": [
        "# NOME DA COLUNA QUE SERÁ CRIADA PARA A INFORMAÇÃO DE LOCALIZAÇÕES\n",
        "name_column_location = \"LOCATION_BRAZIL_STATE\""
      ],
      "metadata": {
        "id": "cqWClR2EO0WV"
      },
      "execution_count": 23,
      "outputs": []
    },
    {
      "cell_type": "markdown",
      "metadata": {
        "id": "5tdGkCo1YttQ"
      },
      "source": [
        "# OBTENDO OS DADOS DO GHCN-MONTLY\n",
        "\n",
        "> Global Historical Climatology Network - Monthly Temperature, Version 4\n",
        "(NOAA GHCN v4)"
      ]
    },
    {
      "cell_type": "code",
      "execution_count": 24,
      "metadata": {
        "id": "0U3k4Z0RYttS",
        "colab": {
          "base_uri": "https://localhost:8080/"
        },
        "outputId": "99b2fc3c-2d78-4198-b2c6-93b7e9f055db"
      },
      "outputs": [
        {
          "output_type": "stream",
          "name": "stdout",
          "text": [
            "REALIZANDO A LEITURA - data/DATASETS_GHCN_MONTHLY/station_belem.csv\n",
            "REALIZANDO A LEITURA - data/DATASETS_GHCN_MONTHLY/station_macapa.csv\n",
            "REALIZANDO A LEITURA - data/DATASETS_GHCN_MONTHLY/station_curitiba.csv\n",
            "REALIZANDO A LEITURA - data/DATASETS_GHCN_MONTHLY/station_vitoria.csv\n",
            "REALIZANDO A LEITURA - data/DATASETS_GHCN_MONTHLY/station_goiania.csv\n",
            "REALIZANDO A LEITURA - data/DATASETS_GHCN_MONTHLY/station_rio.csv\n",
            "REALIZANDO A LEITURA - data/DATASETS_GHCN_MONTHLY/station_manaus.csv\n",
            "REALIZANDO A LEITURA - data/DATASETS_GHCN_MONTHLY/station_recife.csv\n",
            "REALIZANDO A LEITURA - data/DATASETS_GHCN_MONTHLY/station_fortaleza.csv\n",
            "REALIZANDO A LEITURA - data/DATASETS_GHCN_MONTHLY/station_sao_luiz.csv\n",
            "REALIZANDO A LEITURA - data/DATASETS_GHCN_MONTHLY/station_sao_paulo.csv\n",
            "REALIZANDO A LEITURA - data/DATASETS_GHCN_MONTHLY/station_salvador.csv\n"
          ]
        }
      ],
      "source": [
        "# INICIANDO O DATAFRAME\n",
        "df = pd.DataFrame()\n",
        "\n",
        "# PERCORRENDO TODOS OS ARQUIVOS QUE ESTÃO NO DIRETÓRIO\n",
        "for file in get_files_directory(data_dir,\n",
        "                                specific_type=specific_type):\n",
        "\n",
        "  # OBTENDO O NOME DO ESTADO (O NOME ESTÁ NO NOME DO ARQUIVO)\n",
        "  state = Path(file).stem.replace(\"station_\", \"\").upper()\n",
        "\n",
        "  if path.isfile(file):\n",
        "\n",
        "    print(\"REALIZANDO A LEITURA - {}\".format(file))\n",
        "\n",
        "    # REALIZANDO A LEITURA DO DATAFRAME AUXILIAR\n",
        "    df_aux = pd.read_csv(file, sep=\",\")\n",
        "\n",
        "    df_aux[name_column_location] = state\n",
        "\n",
        "    # ADICIONANDO O RESULTAOD DA LEITURA AO DATAFRAME GLOBAL\n",
        "    df = pd.concat([df, df_aux], ignore_index=True, axis=0)"
      ]
    },
    {
      "cell_type": "code",
      "execution_count": 25,
      "metadata": {
        "id": "GYcKyL2TYttT",
        "outputId": "e82fa368-a8e5-4072-c190-7878a9bf922e",
        "colab": {
          "base_uri": "https://localhost:8080/",
          "height": 226
        }
      },
      "outputs": [
        {
          "output_type": "execute_result",
          "data": {
            "text/plain": [
              "   YEAR     JAN     FEB     MAR     APR     MAY     JUN     JUL     AUG     SEP     OCT     NOV     DEC   D-J-F   M-A-M   J-J-A   S-O-N  metANN LOCATION_BRAZIL_STATE\n",
              "0  1961   26.43   25.53   25.88   26.07   26.31   26.64   26.77   26.72   26.62   26.46   26.50   26.51   26.19   26.09   26.71   26.53   26.38                 BELEM\n",
              "1  1962   26.30   26.06   26.15   26.04   26.83   26.74   26.71   26.94   26.87   26.80   26.68   26.91   26.29   26.34   26.80   26.78   26.55                 BELEM\n",
              "2  1963   26.25   26.03   26.02   26.42   27.17   26.94   26.93   26.98   26.96   26.85   27.06   26.24   26.40   26.54   26.95   26.96   26.71                 BELEM\n",
              "3  1964   25.70   25.52   25.41   25.75   26.55   26.91   27.16   27.34   27.32  999.90  999.90  999.90   25.82   25.90   27.14  999.90   26.39                 BELEM\n",
              "4  1965  999.90  999.90  999.90  999.90  999.90  999.90  999.90  999.90  999.90  999.90  999.90  999.90  999.90  999.90  999.90  999.90  999.90                 BELEM"
            ],
            "text/html": [
              "\n",
              "  <div id=\"df-4f3c46a9-23a4-4b89-ab1a-93c7cf4cdabb\" class=\"colab-df-container\">\n",
              "    <div>\n",
              "<style scoped>\n",
              "    .dataframe tbody tr th:only-of-type {\n",
              "        vertical-align: middle;\n",
              "    }\n",
              "\n",
              "    .dataframe tbody tr th {\n",
              "        vertical-align: top;\n",
              "    }\n",
              "\n",
              "    .dataframe thead th {\n",
              "        text-align: right;\n",
              "    }\n",
              "</style>\n",
              "<table border=\"1\" class=\"dataframe\">\n",
              "  <thead>\n",
              "    <tr style=\"text-align: right;\">\n",
              "      <th></th>\n",
              "      <th>YEAR</th>\n",
              "      <th>JAN</th>\n",
              "      <th>FEB</th>\n",
              "      <th>MAR</th>\n",
              "      <th>APR</th>\n",
              "      <th>MAY</th>\n",
              "      <th>JUN</th>\n",
              "      <th>JUL</th>\n",
              "      <th>AUG</th>\n",
              "      <th>SEP</th>\n",
              "      <th>OCT</th>\n",
              "      <th>NOV</th>\n",
              "      <th>DEC</th>\n",
              "      <th>D-J-F</th>\n",
              "      <th>M-A-M</th>\n",
              "      <th>J-J-A</th>\n",
              "      <th>S-O-N</th>\n",
              "      <th>metANN</th>\n",
              "      <th>LOCATION_BRAZIL_STATE</th>\n",
              "    </tr>\n",
              "  </thead>\n",
              "  <tbody>\n",
              "    <tr>\n",
              "      <th>0</th>\n",
              "      <td>1961</td>\n",
              "      <td>26.43</td>\n",
              "      <td>25.53</td>\n",
              "      <td>25.88</td>\n",
              "      <td>26.07</td>\n",
              "      <td>26.31</td>\n",
              "      <td>26.64</td>\n",
              "      <td>26.77</td>\n",
              "      <td>26.72</td>\n",
              "      <td>26.62</td>\n",
              "      <td>26.46</td>\n",
              "      <td>26.50</td>\n",
              "      <td>26.51</td>\n",
              "      <td>26.19</td>\n",
              "      <td>26.09</td>\n",
              "      <td>26.71</td>\n",
              "      <td>26.53</td>\n",
              "      <td>26.38</td>\n",
              "      <td>BELEM</td>\n",
              "    </tr>\n",
              "    <tr>\n",
              "      <th>1</th>\n",
              "      <td>1962</td>\n",
              "      <td>26.30</td>\n",
              "      <td>26.06</td>\n",
              "      <td>26.15</td>\n",
              "      <td>26.04</td>\n",
              "      <td>26.83</td>\n",
              "      <td>26.74</td>\n",
              "      <td>26.71</td>\n",
              "      <td>26.94</td>\n",
              "      <td>26.87</td>\n",
              "      <td>26.80</td>\n",
              "      <td>26.68</td>\n",
              "      <td>26.91</td>\n",
              "      <td>26.29</td>\n",
              "      <td>26.34</td>\n",
              "      <td>26.80</td>\n",
              "      <td>26.78</td>\n",
              "      <td>26.55</td>\n",
              "      <td>BELEM</td>\n",
              "    </tr>\n",
              "    <tr>\n",
              "      <th>2</th>\n",
              "      <td>1963</td>\n",
              "      <td>26.25</td>\n",
              "      <td>26.03</td>\n",
              "      <td>26.02</td>\n",
              "      <td>26.42</td>\n",
              "      <td>27.17</td>\n",
              "      <td>26.94</td>\n",
              "      <td>26.93</td>\n",
              "      <td>26.98</td>\n",
              "      <td>26.96</td>\n",
              "      <td>26.85</td>\n",
              "      <td>27.06</td>\n",
              "      <td>26.24</td>\n",
              "      <td>26.40</td>\n",
              "      <td>26.54</td>\n",
              "      <td>26.95</td>\n",
              "      <td>26.96</td>\n",
              "      <td>26.71</td>\n",
              "      <td>BELEM</td>\n",
              "    </tr>\n",
              "    <tr>\n",
              "      <th>3</th>\n",
              "      <td>1964</td>\n",
              "      <td>25.70</td>\n",
              "      <td>25.52</td>\n",
              "      <td>25.41</td>\n",
              "      <td>25.75</td>\n",
              "      <td>26.55</td>\n",
              "      <td>26.91</td>\n",
              "      <td>27.16</td>\n",
              "      <td>27.34</td>\n",
              "      <td>27.32</td>\n",
              "      <td>999.90</td>\n",
              "      <td>999.90</td>\n",
              "      <td>999.90</td>\n",
              "      <td>25.82</td>\n",
              "      <td>25.90</td>\n",
              "      <td>27.14</td>\n",
              "      <td>999.90</td>\n",
              "      <td>26.39</td>\n",
              "      <td>BELEM</td>\n",
              "    </tr>\n",
              "    <tr>\n",
              "      <th>4</th>\n",
              "      <td>1965</td>\n",
              "      <td>999.90</td>\n",
              "      <td>999.90</td>\n",
              "      <td>999.90</td>\n",
              "      <td>999.90</td>\n",
              "      <td>999.90</td>\n",
              "      <td>999.90</td>\n",
              "      <td>999.90</td>\n",
              "      <td>999.90</td>\n",
              "      <td>999.90</td>\n",
              "      <td>999.90</td>\n",
              "      <td>999.90</td>\n",
              "      <td>999.90</td>\n",
              "      <td>999.90</td>\n",
              "      <td>999.90</td>\n",
              "      <td>999.90</td>\n",
              "      <td>999.90</td>\n",
              "      <td>999.90</td>\n",
              "      <td>BELEM</td>\n",
              "    </tr>\n",
              "  </tbody>\n",
              "</table>\n",
              "</div>\n",
              "    <div class=\"colab-df-buttons\">\n",
              "\n",
              "  <div class=\"colab-df-container\">\n",
              "    <button class=\"colab-df-convert\" onclick=\"convertToInteractive('df-4f3c46a9-23a4-4b89-ab1a-93c7cf4cdabb')\"\n",
              "            title=\"Convert this dataframe to an interactive table.\"\n",
              "            style=\"display:none;\">\n",
              "\n",
              "  <svg xmlns=\"http://www.w3.org/2000/svg\" height=\"24px\" viewBox=\"0 -960 960 960\">\n",
              "    <path d=\"M120-120v-720h720v720H120Zm60-500h600v-160H180v160Zm220 220h160v-160H400v160Zm0 220h160v-160H400v160ZM180-400h160v-160H180v160Zm440 0h160v-160H620v160ZM180-180h160v-160H180v160Zm440 0h160v-160H620v160Z\"/>\n",
              "  </svg>\n",
              "    </button>\n",
              "\n",
              "  <style>\n",
              "    .colab-df-container {\n",
              "      display:flex;\n",
              "      gap: 12px;\n",
              "    }\n",
              "\n",
              "    .colab-df-convert {\n",
              "      background-color: #E8F0FE;\n",
              "      border: none;\n",
              "      border-radius: 50%;\n",
              "      cursor: pointer;\n",
              "      display: none;\n",
              "      fill: #1967D2;\n",
              "      height: 32px;\n",
              "      padding: 0 0 0 0;\n",
              "      width: 32px;\n",
              "    }\n",
              "\n",
              "    .colab-df-convert:hover {\n",
              "      background-color: #E2EBFA;\n",
              "      box-shadow: 0px 1px 2px rgba(60, 64, 67, 0.3), 0px 1px 3px 1px rgba(60, 64, 67, 0.15);\n",
              "      fill: #174EA6;\n",
              "    }\n",
              "\n",
              "    .colab-df-buttons div {\n",
              "      margin-bottom: 4px;\n",
              "    }\n",
              "\n",
              "    [theme=dark] .colab-df-convert {\n",
              "      background-color: #3B4455;\n",
              "      fill: #D2E3FC;\n",
              "    }\n",
              "\n",
              "    [theme=dark] .colab-df-convert:hover {\n",
              "      background-color: #434B5C;\n",
              "      box-shadow: 0px 1px 3px 1px rgba(0, 0, 0, 0.15);\n",
              "      filter: drop-shadow(0px 1px 2px rgba(0, 0, 0, 0.3));\n",
              "      fill: #FFFFFF;\n",
              "    }\n",
              "  </style>\n",
              "\n",
              "    <script>\n",
              "      const buttonEl =\n",
              "        document.querySelector('#df-4f3c46a9-23a4-4b89-ab1a-93c7cf4cdabb button.colab-df-convert');\n",
              "      buttonEl.style.display =\n",
              "        google.colab.kernel.accessAllowed ? 'block' : 'none';\n",
              "\n",
              "      async function convertToInteractive(key) {\n",
              "        const element = document.querySelector('#df-4f3c46a9-23a4-4b89-ab1a-93c7cf4cdabb');\n",
              "        const dataTable =\n",
              "          await google.colab.kernel.invokeFunction('convertToInteractive',\n",
              "                                                    [key], {});\n",
              "        if (!dataTable) return;\n",
              "\n",
              "        const docLinkHtml = 'Like what you see? Visit the ' +\n",
              "          '<a target=\"_blank\" href=https://colab.research.google.com/notebooks/data_table.ipynb>data table notebook</a>'\n",
              "          + ' to learn more about interactive tables.';\n",
              "        element.innerHTML = '';\n",
              "        dataTable['output_type'] = 'display_data';\n",
              "        await google.colab.output.renderOutput(dataTable, element);\n",
              "        const docLink = document.createElement('div');\n",
              "        docLink.innerHTML = docLinkHtml;\n",
              "        element.appendChild(docLink);\n",
              "      }\n",
              "    </script>\n",
              "  </div>\n",
              "\n",
              "\n",
              "<div id=\"df-4e238756-b662-4422-9d4b-6503a37ca730\">\n",
              "  <button class=\"colab-df-quickchart\" onclick=\"quickchart('df-4e238756-b662-4422-9d4b-6503a37ca730')\"\n",
              "            title=\"Suggest charts.\"\n",
              "            style=\"display:none;\">\n",
              "\n",
              "<svg xmlns=\"http://www.w3.org/2000/svg\" height=\"24px\"viewBox=\"0 0 24 24\"\n",
              "     width=\"24px\">\n",
              "    <g>\n",
              "        <path d=\"M19 3H5c-1.1 0-2 .9-2 2v14c0 1.1.9 2 2 2h14c1.1 0 2-.9 2-2V5c0-1.1-.9-2-2-2zM9 17H7v-7h2v7zm4 0h-2V7h2v10zm4 0h-2v-4h2v4z\"/>\n",
              "    </g>\n",
              "</svg>\n",
              "  </button>\n",
              "\n",
              "<style>\n",
              "  .colab-df-quickchart {\n",
              "    background-color: #E8F0FE;\n",
              "    border: none;\n",
              "    border-radius: 50%;\n",
              "    cursor: pointer;\n",
              "    display: none;\n",
              "    fill: #1967D2;\n",
              "    height: 32px;\n",
              "    padding: 0 0 0 0;\n",
              "    width: 32px;\n",
              "  }\n",
              "\n",
              "  .colab-df-quickchart:hover {\n",
              "    background-color: #E2EBFA;\n",
              "    box-shadow: 0px 1px 2px rgba(60, 64, 67, 0.3), 0px 1px 3px 1px rgba(60, 64, 67, 0.15);\n",
              "    fill: #174EA6;\n",
              "  }\n",
              "\n",
              "  [theme=dark] .colab-df-quickchart {\n",
              "    background-color: #3B4455;\n",
              "    fill: #D2E3FC;\n",
              "  }\n",
              "\n",
              "  [theme=dark] .colab-df-quickchart:hover {\n",
              "    background-color: #434B5C;\n",
              "    box-shadow: 0px 1px 3px 1px rgba(0, 0, 0, 0.15);\n",
              "    filter: drop-shadow(0px 1px 2px rgba(0, 0, 0, 0.3));\n",
              "    fill: #FFFFFF;\n",
              "  }\n",
              "</style>\n",
              "\n",
              "  <script>\n",
              "    async function quickchart(key) {\n",
              "      const charts = await google.colab.kernel.invokeFunction(\n",
              "          'suggestCharts', [key], {});\n",
              "    }\n",
              "    (() => {\n",
              "      let quickchartButtonEl =\n",
              "        document.querySelector('#df-4e238756-b662-4422-9d4b-6503a37ca730 button');\n",
              "      quickchartButtonEl.style.display =\n",
              "        google.colab.kernel.accessAllowed ? 'block' : 'none';\n",
              "    })();\n",
              "  </script>\n",
              "</div>\n",
              "    </div>\n",
              "  </div>\n"
            ]
          },
          "metadata": {},
          "execution_count": 25
        }
      ],
      "source": [
        "df.head()"
      ]
    },
    {
      "cell_type": "code",
      "execution_count": 26,
      "metadata": {
        "id": "S7U24jJjYttT",
        "outputId": "a0b0d6a6-3631-4374-f59a-f33d3b86123d",
        "colab": {
          "base_uri": "https://localhost:8080/"
        }
      },
      "outputs": [
        {
          "output_type": "stream",
          "name": "stdout",
          "text": [
            "<class 'pandas.core.frame.DataFrame'>\n",
            "RangeIndex: 757 entries, 0 to 756\n",
            "Data columns (total 19 columns):\n",
            " #   Column                 Non-Null Count  Dtype  \n",
            "---  ------                 --------------  -----  \n",
            " 0   YEAR                   757 non-null    int64  \n",
            " 1   JAN                    757 non-null    float64\n",
            " 2   FEB                    757 non-null    float64\n",
            " 3   MAR                    757 non-null    float64\n",
            " 4   APR                    757 non-null    float64\n",
            " 5   MAY                    757 non-null    float64\n",
            " 6   JUN                    757 non-null    float64\n",
            " 7   JUL                    757 non-null    float64\n",
            " 8   AUG                    757 non-null    float64\n",
            " 9   SEP                    757 non-null    float64\n",
            " 10  OCT                    757 non-null    float64\n",
            " 11  NOV                    757 non-null    float64\n",
            " 12  DEC                    757 non-null    float64\n",
            " 13  D-J-F                  757 non-null    float64\n",
            " 14  M-A-M                  757 non-null    float64\n",
            " 15  J-J-A                  757 non-null    float64\n",
            " 16  S-O-N                  757 non-null    float64\n",
            " 17  metANN                 757 non-null    float64\n",
            " 18  LOCATION_BRAZIL_STATE  757 non-null    object \n",
            "dtypes: float64(17), int64(1), object(1)\n",
            "memory usage: 112.5+ KB\n"
          ]
        }
      ],
      "source": [
        "df.info()"
      ]
    },
    {
      "cell_type": "code",
      "execution_count": 27,
      "metadata": {
        "id": "f1D1vAY5YttU",
        "outputId": "bd0e0aa8-24fd-4cbb-9f3c-e299c7c1d285",
        "colab": {
          "base_uri": "https://localhost:8080/",
          "height": 320
        }
      },
      "outputs": [
        {
          "output_type": "execute_result",
          "data": {
            "text/plain": [
              "              YEAR         JAN         FEB         MAR         APR         MAY         JUN         JUL         AUG         SEP         OCT         NOV         DEC       D-J-F       M-A-M       J-J-A       S-O-N      metANN\n",
              "count   757.000000  757.000000  757.000000  757.000000  757.000000  757.000000  757.000000  757.000000  757.000000  757.000000  757.000000  757.000000  757.000000  757.000000  757.000000  757.000000  757.000000  757.000000\n",
              "mean   1985.652576  158.684861  163.885020  162.350291  169.546671  158.404808  155.274742  152.469260  150.430383  153.591083  163.130978  175.024531  175.269802  148.372140  148.849683  144.986552  152.771532  156.463250\n",
              "std      22.642016  334.064010  339.423043  338.194299  346.249904  336.062650  333.548049  330.855333  327.817637  330.413369  339.739246  351.145525  351.037725  322.793752  324.556100  322.140742  328.820817  333.067957\n",
              "min    1910.000000   19.510000   20.290000   19.110000   16.850000   14.490000   12.190000   12.080000   13.410000   14.120000   15.480000   17.760000   19.470000   20.520000   17.540000   13.110000   17.000000   17.050000\n",
              "25%    1972.000000   25.740000   25.800000   25.690000   25.100000   23.640000   22.600000   22.170000   22.660000   23.270000   24.320000   24.930000   25.410000   25.690000   24.960000   22.530000   24.190000   24.480000\n",
              "50%    1988.000000   26.920000   26.890000   26.760000   26.490000   26.090000   25.320000   24.760000   25.160000   26.520000   26.620000   26.890000   27.050000   26.920000   26.420000   24.860000   26.590000   26.180000\n",
              "75%    2004.000000   27.910000   27.960000   27.660000   27.600000   27.700000   27.700000   27.690000   28.220000   28.680000   28.760000   28.660000   28.310000   27.850000   27.470000   27.800000   28.600000   27.810000\n",
              "max    2019.000000  999.900000  999.900000  999.900000  999.900000  999.900000  999.900000  999.900000  999.900000  999.900000  999.900000  999.900000  999.900000  999.900000  999.900000  999.900000  999.900000  999.900000"
            ],
            "text/html": [
              "\n",
              "  <div id=\"df-1efdc32d-efc7-4329-ae4f-7018982e9e16\" class=\"colab-df-container\">\n",
              "    <div>\n",
              "<style scoped>\n",
              "    .dataframe tbody tr th:only-of-type {\n",
              "        vertical-align: middle;\n",
              "    }\n",
              "\n",
              "    .dataframe tbody tr th {\n",
              "        vertical-align: top;\n",
              "    }\n",
              "\n",
              "    .dataframe thead th {\n",
              "        text-align: right;\n",
              "    }\n",
              "</style>\n",
              "<table border=\"1\" class=\"dataframe\">\n",
              "  <thead>\n",
              "    <tr style=\"text-align: right;\">\n",
              "      <th></th>\n",
              "      <th>YEAR</th>\n",
              "      <th>JAN</th>\n",
              "      <th>FEB</th>\n",
              "      <th>MAR</th>\n",
              "      <th>APR</th>\n",
              "      <th>MAY</th>\n",
              "      <th>JUN</th>\n",
              "      <th>JUL</th>\n",
              "      <th>AUG</th>\n",
              "      <th>SEP</th>\n",
              "      <th>OCT</th>\n",
              "      <th>NOV</th>\n",
              "      <th>DEC</th>\n",
              "      <th>D-J-F</th>\n",
              "      <th>M-A-M</th>\n",
              "      <th>J-J-A</th>\n",
              "      <th>S-O-N</th>\n",
              "      <th>metANN</th>\n",
              "    </tr>\n",
              "  </thead>\n",
              "  <tbody>\n",
              "    <tr>\n",
              "      <th>count</th>\n",
              "      <td>757.000000</td>\n",
              "      <td>757.000000</td>\n",
              "      <td>757.000000</td>\n",
              "      <td>757.000000</td>\n",
              "      <td>757.000000</td>\n",
              "      <td>757.000000</td>\n",
              "      <td>757.000000</td>\n",
              "      <td>757.000000</td>\n",
              "      <td>757.000000</td>\n",
              "      <td>757.000000</td>\n",
              "      <td>757.000000</td>\n",
              "      <td>757.000000</td>\n",
              "      <td>757.000000</td>\n",
              "      <td>757.000000</td>\n",
              "      <td>757.000000</td>\n",
              "      <td>757.000000</td>\n",
              "      <td>757.000000</td>\n",
              "      <td>757.000000</td>\n",
              "    </tr>\n",
              "    <tr>\n",
              "      <th>mean</th>\n",
              "      <td>1985.652576</td>\n",
              "      <td>158.684861</td>\n",
              "      <td>163.885020</td>\n",
              "      <td>162.350291</td>\n",
              "      <td>169.546671</td>\n",
              "      <td>158.404808</td>\n",
              "      <td>155.274742</td>\n",
              "      <td>152.469260</td>\n",
              "      <td>150.430383</td>\n",
              "      <td>153.591083</td>\n",
              "      <td>163.130978</td>\n",
              "      <td>175.024531</td>\n",
              "      <td>175.269802</td>\n",
              "      <td>148.372140</td>\n",
              "      <td>148.849683</td>\n",
              "      <td>144.986552</td>\n",
              "      <td>152.771532</td>\n",
              "      <td>156.463250</td>\n",
              "    </tr>\n",
              "    <tr>\n",
              "      <th>std</th>\n",
              "      <td>22.642016</td>\n",
              "      <td>334.064010</td>\n",
              "      <td>339.423043</td>\n",
              "      <td>338.194299</td>\n",
              "      <td>346.249904</td>\n",
              "      <td>336.062650</td>\n",
              "      <td>333.548049</td>\n",
              "      <td>330.855333</td>\n",
              "      <td>327.817637</td>\n",
              "      <td>330.413369</td>\n",
              "      <td>339.739246</td>\n",
              "      <td>351.145525</td>\n",
              "      <td>351.037725</td>\n",
              "      <td>322.793752</td>\n",
              "      <td>324.556100</td>\n",
              "      <td>322.140742</td>\n",
              "      <td>328.820817</td>\n",
              "      <td>333.067957</td>\n",
              "    </tr>\n",
              "    <tr>\n",
              "      <th>min</th>\n",
              "      <td>1910.000000</td>\n",
              "      <td>19.510000</td>\n",
              "      <td>20.290000</td>\n",
              "      <td>19.110000</td>\n",
              "      <td>16.850000</td>\n",
              "      <td>14.490000</td>\n",
              "      <td>12.190000</td>\n",
              "      <td>12.080000</td>\n",
              "      <td>13.410000</td>\n",
              "      <td>14.120000</td>\n",
              "      <td>15.480000</td>\n",
              "      <td>17.760000</td>\n",
              "      <td>19.470000</td>\n",
              "      <td>20.520000</td>\n",
              "      <td>17.540000</td>\n",
              "      <td>13.110000</td>\n",
              "      <td>17.000000</td>\n",
              "      <td>17.050000</td>\n",
              "    </tr>\n",
              "    <tr>\n",
              "      <th>25%</th>\n",
              "      <td>1972.000000</td>\n",
              "      <td>25.740000</td>\n",
              "      <td>25.800000</td>\n",
              "      <td>25.690000</td>\n",
              "      <td>25.100000</td>\n",
              "      <td>23.640000</td>\n",
              "      <td>22.600000</td>\n",
              "      <td>22.170000</td>\n",
              "      <td>22.660000</td>\n",
              "      <td>23.270000</td>\n",
              "      <td>24.320000</td>\n",
              "      <td>24.930000</td>\n",
              "      <td>25.410000</td>\n",
              "      <td>25.690000</td>\n",
              "      <td>24.960000</td>\n",
              "      <td>22.530000</td>\n",
              "      <td>24.190000</td>\n",
              "      <td>24.480000</td>\n",
              "    </tr>\n",
              "    <tr>\n",
              "      <th>50%</th>\n",
              "      <td>1988.000000</td>\n",
              "      <td>26.920000</td>\n",
              "      <td>26.890000</td>\n",
              "      <td>26.760000</td>\n",
              "      <td>26.490000</td>\n",
              "      <td>26.090000</td>\n",
              "      <td>25.320000</td>\n",
              "      <td>24.760000</td>\n",
              "      <td>25.160000</td>\n",
              "      <td>26.520000</td>\n",
              "      <td>26.620000</td>\n",
              "      <td>26.890000</td>\n",
              "      <td>27.050000</td>\n",
              "      <td>26.920000</td>\n",
              "      <td>26.420000</td>\n",
              "      <td>24.860000</td>\n",
              "      <td>26.590000</td>\n",
              "      <td>26.180000</td>\n",
              "    </tr>\n",
              "    <tr>\n",
              "      <th>75%</th>\n",
              "      <td>2004.000000</td>\n",
              "      <td>27.910000</td>\n",
              "      <td>27.960000</td>\n",
              "      <td>27.660000</td>\n",
              "      <td>27.600000</td>\n",
              "      <td>27.700000</td>\n",
              "      <td>27.700000</td>\n",
              "      <td>27.690000</td>\n",
              "      <td>28.220000</td>\n",
              "      <td>28.680000</td>\n",
              "      <td>28.760000</td>\n",
              "      <td>28.660000</td>\n",
              "      <td>28.310000</td>\n",
              "      <td>27.850000</td>\n",
              "      <td>27.470000</td>\n",
              "      <td>27.800000</td>\n",
              "      <td>28.600000</td>\n",
              "      <td>27.810000</td>\n",
              "    </tr>\n",
              "    <tr>\n",
              "      <th>max</th>\n",
              "      <td>2019.000000</td>\n",
              "      <td>999.900000</td>\n",
              "      <td>999.900000</td>\n",
              "      <td>999.900000</td>\n",
              "      <td>999.900000</td>\n",
              "      <td>999.900000</td>\n",
              "      <td>999.900000</td>\n",
              "      <td>999.900000</td>\n",
              "      <td>999.900000</td>\n",
              "      <td>999.900000</td>\n",
              "      <td>999.900000</td>\n",
              "      <td>999.900000</td>\n",
              "      <td>999.900000</td>\n",
              "      <td>999.900000</td>\n",
              "      <td>999.900000</td>\n",
              "      <td>999.900000</td>\n",
              "      <td>999.900000</td>\n",
              "      <td>999.900000</td>\n",
              "    </tr>\n",
              "  </tbody>\n",
              "</table>\n",
              "</div>\n",
              "    <div class=\"colab-df-buttons\">\n",
              "\n",
              "  <div class=\"colab-df-container\">\n",
              "    <button class=\"colab-df-convert\" onclick=\"convertToInteractive('df-1efdc32d-efc7-4329-ae4f-7018982e9e16')\"\n",
              "            title=\"Convert this dataframe to an interactive table.\"\n",
              "            style=\"display:none;\">\n",
              "\n",
              "  <svg xmlns=\"http://www.w3.org/2000/svg\" height=\"24px\" viewBox=\"0 -960 960 960\">\n",
              "    <path d=\"M120-120v-720h720v720H120Zm60-500h600v-160H180v160Zm220 220h160v-160H400v160Zm0 220h160v-160H400v160ZM180-400h160v-160H180v160Zm440 0h160v-160H620v160ZM180-180h160v-160H180v160Zm440 0h160v-160H620v160Z\"/>\n",
              "  </svg>\n",
              "    </button>\n",
              "\n",
              "  <style>\n",
              "    .colab-df-container {\n",
              "      display:flex;\n",
              "      gap: 12px;\n",
              "    }\n",
              "\n",
              "    .colab-df-convert {\n",
              "      background-color: #E8F0FE;\n",
              "      border: none;\n",
              "      border-radius: 50%;\n",
              "      cursor: pointer;\n",
              "      display: none;\n",
              "      fill: #1967D2;\n",
              "      height: 32px;\n",
              "      padding: 0 0 0 0;\n",
              "      width: 32px;\n",
              "    }\n",
              "\n",
              "    .colab-df-convert:hover {\n",
              "      background-color: #E2EBFA;\n",
              "      box-shadow: 0px 1px 2px rgba(60, 64, 67, 0.3), 0px 1px 3px 1px rgba(60, 64, 67, 0.15);\n",
              "      fill: #174EA6;\n",
              "    }\n",
              "\n",
              "    .colab-df-buttons div {\n",
              "      margin-bottom: 4px;\n",
              "    }\n",
              "\n",
              "    [theme=dark] .colab-df-convert {\n",
              "      background-color: #3B4455;\n",
              "      fill: #D2E3FC;\n",
              "    }\n",
              "\n",
              "    [theme=dark] .colab-df-convert:hover {\n",
              "      background-color: #434B5C;\n",
              "      box-shadow: 0px 1px 3px 1px rgba(0, 0, 0, 0.15);\n",
              "      filter: drop-shadow(0px 1px 2px rgba(0, 0, 0, 0.3));\n",
              "      fill: #FFFFFF;\n",
              "    }\n",
              "  </style>\n",
              "\n",
              "    <script>\n",
              "      const buttonEl =\n",
              "        document.querySelector('#df-1efdc32d-efc7-4329-ae4f-7018982e9e16 button.colab-df-convert');\n",
              "      buttonEl.style.display =\n",
              "        google.colab.kernel.accessAllowed ? 'block' : 'none';\n",
              "\n",
              "      async function convertToInteractive(key) {\n",
              "        const element = document.querySelector('#df-1efdc32d-efc7-4329-ae4f-7018982e9e16');\n",
              "        const dataTable =\n",
              "          await google.colab.kernel.invokeFunction('convertToInteractive',\n",
              "                                                    [key], {});\n",
              "        if (!dataTable) return;\n",
              "\n",
              "        const docLinkHtml = 'Like what you see? Visit the ' +\n",
              "          '<a target=\"_blank\" href=https://colab.research.google.com/notebooks/data_table.ipynb>data table notebook</a>'\n",
              "          + ' to learn more about interactive tables.';\n",
              "        element.innerHTML = '';\n",
              "        dataTable['output_type'] = 'display_data';\n",
              "        await google.colab.output.renderOutput(dataTable, element);\n",
              "        const docLink = document.createElement('div');\n",
              "        docLink.innerHTML = docLinkHtml;\n",
              "        element.appendChild(docLink);\n",
              "      }\n",
              "    </script>\n",
              "  </div>\n",
              "\n",
              "\n",
              "<div id=\"df-d5841d50-1ed5-4f50-90a3-541a2250e265\">\n",
              "  <button class=\"colab-df-quickchart\" onclick=\"quickchart('df-d5841d50-1ed5-4f50-90a3-541a2250e265')\"\n",
              "            title=\"Suggest charts.\"\n",
              "            style=\"display:none;\">\n",
              "\n",
              "<svg xmlns=\"http://www.w3.org/2000/svg\" height=\"24px\"viewBox=\"0 0 24 24\"\n",
              "     width=\"24px\">\n",
              "    <g>\n",
              "        <path d=\"M19 3H5c-1.1 0-2 .9-2 2v14c0 1.1.9 2 2 2h14c1.1 0 2-.9 2-2V5c0-1.1-.9-2-2-2zM9 17H7v-7h2v7zm4 0h-2V7h2v10zm4 0h-2v-4h2v4z\"/>\n",
              "    </g>\n",
              "</svg>\n",
              "  </button>\n",
              "\n",
              "<style>\n",
              "  .colab-df-quickchart {\n",
              "    background-color: #E8F0FE;\n",
              "    border: none;\n",
              "    border-radius: 50%;\n",
              "    cursor: pointer;\n",
              "    display: none;\n",
              "    fill: #1967D2;\n",
              "    height: 32px;\n",
              "    padding: 0 0 0 0;\n",
              "    width: 32px;\n",
              "  }\n",
              "\n",
              "  .colab-df-quickchart:hover {\n",
              "    background-color: #E2EBFA;\n",
              "    box-shadow: 0px 1px 2px rgba(60, 64, 67, 0.3), 0px 1px 3px 1px rgba(60, 64, 67, 0.15);\n",
              "    fill: #174EA6;\n",
              "  }\n",
              "\n",
              "  [theme=dark] .colab-df-quickchart {\n",
              "    background-color: #3B4455;\n",
              "    fill: #D2E3FC;\n",
              "  }\n",
              "\n",
              "  [theme=dark] .colab-df-quickchart:hover {\n",
              "    background-color: #434B5C;\n",
              "    box-shadow: 0px 1px 3px 1px rgba(0, 0, 0, 0.15);\n",
              "    filter: drop-shadow(0px 1px 2px rgba(0, 0, 0, 0.3));\n",
              "    fill: #FFFFFF;\n",
              "  }\n",
              "</style>\n",
              "\n",
              "  <script>\n",
              "    async function quickchart(key) {\n",
              "      const charts = await google.colab.kernel.invokeFunction(\n",
              "          'suggestCharts', [key], {});\n",
              "    }\n",
              "    (() => {\n",
              "      let quickchartButtonEl =\n",
              "        document.querySelector('#df-d5841d50-1ed5-4f50-90a3-541a2250e265 button');\n",
              "      quickchartButtonEl.style.display =\n",
              "        google.colab.kernel.accessAllowed ? 'block' : 'none';\n",
              "    })();\n",
              "  </script>\n",
              "</div>\n",
              "    </div>\n",
              "  </div>\n"
            ]
          },
          "metadata": {},
          "execution_count": 27
        }
      ],
      "source": [
        "df.describe()"
      ]
    },
    {
      "cell_type": "markdown",
      "source": [
        "# PRÉPROCESSAMENTO"
      ],
      "metadata": {
        "id": "rsWz7cQmPcBk"
      }
    },
    {
      "cell_type": "markdown",
      "source": [
        "## REMOVENDO COLUNAS NÃO DESEJADAS"
      ],
      "metadata": {
        "id": "vsru2YCPMMWJ"
      }
    },
    {
      "cell_type": "code",
      "source": [
        "# REALIZANDO UMA CÓPIA DO DATAFRAME ORIGINAL\n",
        "df_original = df.copy()"
      ],
      "metadata": {
        "id": "ZZGO_LLppo_8"
      },
      "execution_count": null,
      "outputs": []
    },
    {
      "cell_type": "code",
      "source": [
        "# REMOVENDO COLUNAS NÃO DESEJADAS\n",
        "df = df.drop(['D-J-F', 'M-A-M', 'J-J-A', 'S-O-N', 'metANN'], axis=1)"
      ],
      "metadata": {
        "id": "9GfFZ3kbo9NI",
        "colab": {
          "base_uri": "https://localhost:8080/",
          "height": 354
        },
        "outputId": "7e245751-b554-49a4-e255-07ac83627545"
      },
      "execution_count": null,
      "outputs": [
        {
          "output_type": "error",
          "ename": "KeyError",
          "evalue": "ignored",
          "traceback": [
            "\u001b[0;31m---------------------------------------------------------------------------\u001b[0m",
            "\u001b[0;31mKeyError\u001b[0m                                  Traceback (most recent call last)",
            "\u001b[0;32m<ipython-input-43-eb78ede59d66>\u001b[0m in \u001b[0;36m<cell line: 2>\u001b[0;34m()\u001b[0m\n\u001b[1;32m      1\u001b[0m \u001b[0;31m# REMOVENDO COLUNAS NÃO DESEJADAS\u001b[0m\u001b[0;34m\u001b[0m\u001b[0;34m\u001b[0m\u001b[0m\n\u001b[0;32m----> 2\u001b[0;31m \u001b[0mdf\u001b[0m \u001b[0;34m=\u001b[0m \u001b[0mdf\u001b[0m\u001b[0;34m.\u001b[0m\u001b[0mdrop\u001b[0m\u001b[0;34m(\u001b[0m\u001b[0;34m[\u001b[0m\u001b[0;34m'D-J-F'\u001b[0m\u001b[0;34m,\u001b[0m \u001b[0;34m'M-A-M'\u001b[0m\u001b[0;34m,\u001b[0m \u001b[0;34m'J-J-A'\u001b[0m\u001b[0;34m,\u001b[0m \u001b[0;34m'S-O-N'\u001b[0m\u001b[0;34m,\u001b[0m \u001b[0;34m'metANN'\u001b[0m\u001b[0;34m]\u001b[0m\u001b[0;34m,\u001b[0m \u001b[0maxis\u001b[0m\u001b[0;34m=\u001b[0m\u001b[0;36m1\u001b[0m\u001b[0;34m)\u001b[0m\u001b[0;34m\u001b[0m\u001b[0;34m\u001b[0m\u001b[0m\n\u001b[0m",
            "\u001b[0;32m/usr/local/lib/python3.10/dist-packages/pandas/util/_decorators.py\u001b[0m in \u001b[0;36mwrapper\u001b[0;34m(*args, **kwargs)\u001b[0m\n\u001b[1;32m    329\u001b[0m                     \u001b[0mstacklevel\u001b[0m\u001b[0;34m=\u001b[0m\u001b[0mfind_stack_level\u001b[0m\u001b[0;34m(\u001b[0m\u001b[0;34m)\u001b[0m\u001b[0;34m,\u001b[0m\u001b[0;34m\u001b[0m\u001b[0;34m\u001b[0m\u001b[0m\n\u001b[1;32m    330\u001b[0m                 )\n\u001b[0;32m--> 331\u001b[0;31m             \u001b[0;32mreturn\u001b[0m \u001b[0mfunc\u001b[0m\u001b[0;34m(\u001b[0m\u001b[0;34m*\u001b[0m\u001b[0margs\u001b[0m\u001b[0;34m,\u001b[0m \u001b[0;34m**\u001b[0m\u001b[0mkwargs\u001b[0m\u001b[0;34m)\u001b[0m\u001b[0;34m\u001b[0m\u001b[0;34m\u001b[0m\u001b[0m\n\u001b[0m\u001b[1;32m    332\u001b[0m \u001b[0;34m\u001b[0m\u001b[0m\n\u001b[1;32m    333\u001b[0m         \u001b[0;31m# error: \"Callable[[VarArg(Any), KwArg(Any)], Any]\" has no\u001b[0m\u001b[0;34m\u001b[0m\u001b[0;34m\u001b[0m\u001b[0m\n",
            "\u001b[0;32m/usr/local/lib/python3.10/dist-packages/pandas/core/frame.py\u001b[0m in \u001b[0;36mdrop\u001b[0;34m(self, labels, axis, index, columns, level, inplace, errors)\u001b[0m\n\u001b[1;32m   5397\u001b[0m                 \u001b[0mweight\u001b[0m  \u001b[0;36m1.0\u001b[0m     \u001b[0;36m0.8\u001b[0m\u001b[0;34m\u001b[0m\u001b[0;34m\u001b[0m\u001b[0m\n\u001b[1;32m   5398\u001b[0m         \"\"\"\n\u001b[0;32m-> 5399\u001b[0;31m         return super().drop(\n\u001b[0m\u001b[1;32m   5400\u001b[0m             \u001b[0mlabels\u001b[0m\u001b[0;34m=\u001b[0m\u001b[0mlabels\u001b[0m\u001b[0;34m,\u001b[0m\u001b[0;34m\u001b[0m\u001b[0;34m\u001b[0m\u001b[0m\n\u001b[1;32m   5401\u001b[0m             \u001b[0maxis\u001b[0m\u001b[0;34m=\u001b[0m\u001b[0maxis\u001b[0m\u001b[0;34m,\u001b[0m\u001b[0;34m\u001b[0m\u001b[0;34m\u001b[0m\u001b[0m\n",
            "\u001b[0;32m/usr/local/lib/python3.10/dist-packages/pandas/util/_decorators.py\u001b[0m in \u001b[0;36mwrapper\u001b[0;34m(*args, **kwargs)\u001b[0m\n\u001b[1;32m    329\u001b[0m                     \u001b[0mstacklevel\u001b[0m\u001b[0;34m=\u001b[0m\u001b[0mfind_stack_level\u001b[0m\u001b[0;34m(\u001b[0m\u001b[0;34m)\u001b[0m\u001b[0;34m,\u001b[0m\u001b[0;34m\u001b[0m\u001b[0;34m\u001b[0m\u001b[0m\n\u001b[1;32m    330\u001b[0m                 )\n\u001b[0;32m--> 331\u001b[0;31m             \u001b[0;32mreturn\u001b[0m \u001b[0mfunc\u001b[0m\u001b[0;34m(\u001b[0m\u001b[0;34m*\u001b[0m\u001b[0margs\u001b[0m\u001b[0;34m,\u001b[0m \u001b[0;34m**\u001b[0m\u001b[0mkwargs\u001b[0m\u001b[0;34m)\u001b[0m\u001b[0;34m\u001b[0m\u001b[0;34m\u001b[0m\u001b[0m\n\u001b[0m\u001b[1;32m    332\u001b[0m \u001b[0;34m\u001b[0m\u001b[0m\n\u001b[1;32m    333\u001b[0m         \u001b[0;31m# error: \"Callable[[VarArg(Any), KwArg(Any)], Any]\" has no\u001b[0m\u001b[0;34m\u001b[0m\u001b[0;34m\u001b[0m\u001b[0m\n",
            "\u001b[0;32m/usr/local/lib/python3.10/dist-packages/pandas/core/generic.py\u001b[0m in \u001b[0;36mdrop\u001b[0;34m(self, labels, axis, index, columns, level, inplace, errors)\u001b[0m\n\u001b[1;32m   4503\u001b[0m         \u001b[0;32mfor\u001b[0m \u001b[0maxis\u001b[0m\u001b[0;34m,\u001b[0m \u001b[0mlabels\u001b[0m \u001b[0;32min\u001b[0m \u001b[0maxes\u001b[0m\u001b[0;34m.\u001b[0m\u001b[0mitems\u001b[0m\u001b[0;34m(\u001b[0m\u001b[0;34m)\u001b[0m\u001b[0;34m:\u001b[0m\u001b[0;34m\u001b[0m\u001b[0;34m\u001b[0m\u001b[0m\n\u001b[1;32m   4504\u001b[0m             \u001b[0;32mif\u001b[0m \u001b[0mlabels\u001b[0m \u001b[0;32mis\u001b[0m \u001b[0;32mnot\u001b[0m \u001b[0;32mNone\u001b[0m\u001b[0;34m:\u001b[0m\u001b[0;34m\u001b[0m\u001b[0;34m\u001b[0m\u001b[0m\n\u001b[0;32m-> 4505\u001b[0;31m                 \u001b[0mobj\u001b[0m \u001b[0;34m=\u001b[0m \u001b[0mobj\u001b[0m\u001b[0;34m.\u001b[0m\u001b[0m_drop_axis\u001b[0m\u001b[0;34m(\u001b[0m\u001b[0mlabels\u001b[0m\u001b[0;34m,\u001b[0m \u001b[0maxis\u001b[0m\u001b[0;34m,\u001b[0m \u001b[0mlevel\u001b[0m\u001b[0;34m=\u001b[0m\u001b[0mlevel\u001b[0m\u001b[0;34m,\u001b[0m \u001b[0merrors\u001b[0m\u001b[0;34m=\u001b[0m\u001b[0merrors\u001b[0m\u001b[0;34m)\u001b[0m\u001b[0;34m\u001b[0m\u001b[0;34m\u001b[0m\u001b[0m\n\u001b[0m\u001b[1;32m   4506\u001b[0m \u001b[0;34m\u001b[0m\u001b[0m\n\u001b[1;32m   4507\u001b[0m         \u001b[0;32mif\u001b[0m \u001b[0minplace\u001b[0m\u001b[0;34m:\u001b[0m\u001b[0;34m\u001b[0m\u001b[0;34m\u001b[0m\u001b[0m\n",
            "\u001b[0;32m/usr/local/lib/python3.10/dist-packages/pandas/core/generic.py\u001b[0m in \u001b[0;36m_drop_axis\u001b[0;34m(self, labels, axis, level, errors, only_slice)\u001b[0m\n\u001b[1;32m   4544\u001b[0m                 \u001b[0mnew_axis\u001b[0m \u001b[0;34m=\u001b[0m \u001b[0maxis\u001b[0m\u001b[0;34m.\u001b[0m\u001b[0mdrop\u001b[0m\u001b[0;34m(\u001b[0m\u001b[0mlabels\u001b[0m\u001b[0;34m,\u001b[0m \u001b[0mlevel\u001b[0m\u001b[0;34m=\u001b[0m\u001b[0mlevel\u001b[0m\u001b[0;34m,\u001b[0m \u001b[0merrors\u001b[0m\u001b[0;34m=\u001b[0m\u001b[0merrors\u001b[0m\u001b[0;34m)\u001b[0m\u001b[0;34m\u001b[0m\u001b[0;34m\u001b[0m\u001b[0m\n\u001b[1;32m   4545\u001b[0m             \u001b[0;32melse\u001b[0m\u001b[0;34m:\u001b[0m\u001b[0;34m\u001b[0m\u001b[0;34m\u001b[0m\u001b[0m\n\u001b[0;32m-> 4546\u001b[0;31m                 \u001b[0mnew_axis\u001b[0m \u001b[0;34m=\u001b[0m \u001b[0maxis\u001b[0m\u001b[0;34m.\u001b[0m\u001b[0mdrop\u001b[0m\u001b[0;34m(\u001b[0m\u001b[0mlabels\u001b[0m\u001b[0;34m,\u001b[0m \u001b[0merrors\u001b[0m\u001b[0;34m=\u001b[0m\u001b[0merrors\u001b[0m\u001b[0;34m)\u001b[0m\u001b[0;34m\u001b[0m\u001b[0;34m\u001b[0m\u001b[0m\n\u001b[0m\u001b[1;32m   4547\u001b[0m             \u001b[0mindexer\u001b[0m \u001b[0;34m=\u001b[0m \u001b[0maxis\u001b[0m\u001b[0;34m.\u001b[0m\u001b[0mget_indexer\u001b[0m\u001b[0;34m(\u001b[0m\u001b[0mnew_axis\u001b[0m\u001b[0;34m)\u001b[0m\u001b[0;34m\u001b[0m\u001b[0;34m\u001b[0m\u001b[0m\n\u001b[1;32m   4548\u001b[0m \u001b[0;34m\u001b[0m\u001b[0m\n",
            "\u001b[0;32m/usr/local/lib/python3.10/dist-packages/pandas/core/indexes/base.py\u001b[0m in \u001b[0;36mdrop\u001b[0;34m(self, labels, errors)\u001b[0m\n\u001b[1;32m   6932\u001b[0m         \u001b[0;32mif\u001b[0m \u001b[0mmask\u001b[0m\u001b[0;34m.\u001b[0m\u001b[0many\u001b[0m\u001b[0;34m(\u001b[0m\u001b[0;34m)\u001b[0m\u001b[0;34m:\u001b[0m\u001b[0;34m\u001b[0m\u001b[0;34m\u001b[0m\u001b[0m\n\u001b[1;32m   6933\u001b[0m             \u001b[0;32mif\u001b[0m \u001b[0merrors\u001b[0m \u001b[0;34m!=\u001b[0m \u001b[0;34m\"ignore\"\u001b[0m\u001b[0;34m:\u001b[0m\u001b[0;34m\u001b[0m\u001b[0;34m\u001b[0m\u001b[0m\n\u001b[0;32m-> 6934\u001b[0;31m                 \u001b[0;32mraise\u001b[0m \u001b[0mKeyError\u001b[0m\u001b[0;34m(\u001b[0m\u001b[0;34mf\"{list(labels[mask])} not found in axis\"\u001b[0m\u001b[0;34m)\u001b[0m\u001b[0;34m\u001b[0m\u001b[0;34m\u001b[0m\u001b[0m\n\u001b[0m\u001b[1;32m   6935\u001b[0m             \u001b[0mindexer\u001b[0m \u001b[0;34m=\u001b[0m \u001b[0mindexer\u001b[0m\u001b[0;34m[\u001b[0m\u001b[0;34m~\u001b[0m\u001b[0mmask\u001b[0m\u001b[0;34m]\u001b[0m\u001b[0;34m\u001b[0m\u001b[0;34m\u001b[0m\u001b[0m\n\u001b[1;32m   6936\u001b[0m         \u001b[0;32mreturn\u001b[0m \u001b[0mself\u001b[0m\u001b[0;34m.\u001b[0m\u001b[0mdelete\u001b[0m\u001b[0;34m(\u001b[0m\u001b[0mindexer\u001b[0m\u001b[0;34m)\u001b[0m\u001b[0;34m\u001b[0m\u001b[0;34m\u001b[0m\u001b[0m\n",
            "\u001b[0;31mKeyError\u001b[0m: \"['D-J-F', 'M-A-M', 'J-J-A', 'S-O-N', 'metANN'] not found in axis\""
          ]
        }
      ]
    },
    {
      "cell_type": "markdown",
      "source": [
        "## OBTENDO UMA LINHA PARA CADA VALOR DA SÉRIE TEMPORAL"
      ],
      "metadata": {
        "id": "waX1pLi0PECr"
      }
    },
    {
      "cell_type": "code",
      "source": [
        "df_one_row_per_month = pd.melt(df,\n",
        "                               id_vars=['YEAR', name_column_location],\n",
        "                               var_name='MONTH',\n",
        "                               value_name='TEMPERATURE')"
      ],
      "metadata": {
        "id": "_4KhGwwokEj_"
      },
      "execution_count": null,
      "outputs": []
    },
    {
      "cell_type": "code",
      "source": [
        "df_one_row_per_month.head()"
      ],
      "metadata": {
        "colab": {
          "base_uri": "https://localhost:8080/",
          "height": 206
        },
        "id": "HYCy7nB63nTy",
        "outputId": "5e1a9269-9ee5-4bbe-ec6f-d91a5b4b0800"
      },
      "execution_count": null,
      "outputs": [
        {
          "output_type": "execute_result",
          "data": {
            "text/plain": [
              "   YEAR LOCATION_BRAZIL_STATE MONTH  TEMPERATURE\n",
              "0  1961               VITORIA   JAN        26.09\n",
              "1  1962               VITORIA   JAN        26.38\n",
              "2  1963               VITORIA   JAN        27.59\n",
              "3  1964               VITORIA   JAN        25.28\n",
              "4  1965               VITORIA   JAN        25.65"
            ],
            "text/html": [
              "\n",
              "  <div id=\"df-a422dcc6-277b-457f-82fb-15ee40091de6\" class=\"colab-df-container\">\n",
              "    <div>\n",
              "<style scoped>\n",
              "    .dataframe tbody tr th:only-of-type {\n",
              "        vertical-align: middle;\n",
              "    }\n",
              "\n",
              "    .dataframe tbody tr th {\n",
              "        vertical-align: top;\n",
              "    }\n",
              "\n",
              "    .dataframe thead th {\n",
              "        text-align: right;\n",
              "    }\n",
              "</style>\n",
              "<table border=\"1\" class=\"dataframe\">\n",
              "  <thead>\n",
              "    <tr style=\"text-align: right;\">\n",
              "      <th></th>\n",
              "      <th>YEAR</th>\n",
              "      <th>LOCATION_BRAZIL_STATE</th>\n",
              "      <th>MONTH</th>\n",
              "      <th>TEMPERATURE</th>\n",
              "    </tr>\n",
              "  </thead>\n",
              "  <tbody>\n",
              "    <tr>\n",
              "      <th>0</th>\n",
              "      <td>1961</td>\n",
              "      <td>VITORIA</td>\n",
              "      <td>JAN</td>\n",
              "      <td>26.09</td>\n",
              "    </tr>\n",
              "    <tr>\n",
              "      <th>1</th>\n",
              "      <td>1962</td>\n",
              "      <td>VITORIA</td>\n",
              "      <td>JAN</td>\n",
              "      <td>26.38</td>\n",
              "    </tr>\n",
              "    <tr>\n",
              "      <th>2</th>\n",
              "      <td>1963</td>\n",
              "      <td>VITORIA</td>\n",
              "      <td>JAN</td>\n",
              "      <td>27.59</td>\n",
              "    </tr>\n",
              "    <tr>\n",
              "      <th>3</th>\n",
              "      <td>1964</td>\n",
              "      <td>VITORIA</td>\n",
              "      <td>JAN</td>\n",
              "      <td>25.28</td>\n",
              "    </tr>\n",
              "    <tr>\n",
              "      <th>4</th>\n",
              "      <td>1965</td>\n",
              "      <td>VITORIA</td>\n",
              "      <td>JAN</td>\n",
              "      <td>25.65</td>\n",
              "    </tr>\n",
              "  </tbody>\n",
              "</table>\n",
              "</div>\n",
              "    <div class=\"colab-df-buttons\">\n",
              "\n",
              "  <div class=\"colab-df-container\">\n",
              "    <button class=\"colab-df-convert\" onclick=\"convertToInteractive('df-a422dcc6-277b-457f-82fb-15ee40091de6')\"\n",
              "            title=\"Convert this dataframe to an interactive table.\"\n",
              "            style=\"display:none;\">\n",
              "\n",
              "  <svg xmlns=\"http://www.w3.org/2000/svg\" height=\"24px\" viewBox=\"0 -960 960 960\">\n",
              "    <path d=\"M120-120v-720h720v720H120Zm60-500h600v-160H180v160Zm220 220h160v-160H400v160Zm0 220h160v-160H400v160ZM180-400h160v-160H180v160Zm440 0h160v-160H620v160ZM180-180h160v-160H180v160Zm440 0h160v-160H620v160Z\"/>\n",
              "  </svg>\n",
              "    </button>\n",
              "\n",
              "  <style>\n",
              "    .colab-df-container {\n",
              "      display:flex;\n",
              "      gap: 12px;\n",
              "    }\n",
              "\n",
              "    .colab-df-convert {\n",
              "      background-color: #E8F0FE;\n",
              "      border: none;\n",
              "      border-radius: 50%;\n",
              "      cursor: pointer;\n",
              "      display: none;\n",
              "      fill: #1967D2;\n",
              "      height: 32px;\n",
              "      padding: 0 0 0 0;\n",
              "      width: 32px;\n",
              "    }\n",
              "\n",
              "    .colab-df-convert:hover {\n",
              "      background-color: #E2EBFA;\n",
              "      box-shadow: 0px 1px 2px rgba(60, 64, 67, 0.3), 0px 1px 3px 1px rgba(60, 64, 67, 0.15);\n",
              "      fill: #174EA6;\n",
              "    }\n",
              "\n",
              "    .colab-df-buttons div {\n",
              "      margin-bottom: 4px;\n",
              "    }\n",
              "\n",
              "    [theme=dark] .colab-df-convert {\n",
              "      background-color: #3B4455;\n",
              "      fill: #D2E3FC;\n",
              "    }\n",
              "\n",
              "    [theme=dark] .colab-df-convert:hover {\n",
              "      background-color: #434B5C;\n",
              "      box-shadow: 0px 1px 3px 1px rgba(0, 0, 0, 0.15);\n",
              "      filter: drop-shadow(0px 1px 2px rgba(0, 0, 0, 0.3));\n",
              "      fill: #FFFFFF;\n",
              "    }\n",
              "  </style>\n",
              "\n",
              "    <script>\n",
              "      const buttonEl =\n",
              "        document.querySelector('#df-a422dcc6-277b-457f-82fb-15ee40091de6 button.colab-df-convert');\n",
              "      buttonEl.style.display =\n",
              "        google.colab.kernel.accessAllowed ? 'block' : 'none';\n",
              "\n",
              "      async function convertToInteractive(key) {\n",
              "        const element = document.querySelector('#df-a422dcc6-277b-457f-82fb-15ee40091de6');\n",
              "        const dataTable =\n",
              "          await google.colab.kernel.invokeFunction('convertToInteractive',\n",
              "                                                    [key], {});\n",
              "        if (!dataTable) return;\n",
              "\n",
              "        const docLinkHtml = 'Like what you see? Visit the ' +\n",
              "          '<a target=\"_blank\" href=https://colab.research.google.com/notebooks/data_table.ipynb>data table notebook</a>'\n",
              "          + ' to learn more about interactive tables.';\n",
              "        element.innerHTML = '';\n",
              "        dataTable['output_type'] = 'display_data';\n",
              "        await google.colab.output.renderOutput(dataTable, element);\n",
              "        const docLink = document.createElement('div');\n",
              "        docLink.innerHTML = docLinkHtml;\n",
              "        element.appendChild(docLink);\n",
              "      }\n",
              "    </script>\n",
              "  </div>\n",
              "\n",
              "\n",
              "<div id=\"df-97b7407d-553b-4896-8c35-c396ef9bb1ba\">\n",
              "  <button class=\"colab-df-quickchart\" onclick=\"quickchart('df-97b7407d-553b-4896-8c35-c396ef9bb1ba')\"\n",
              "            title=\"Suggest charts.\"\n",
              "            style=\"display:none;\">\n",
              "\n",
              "<svg xmlns=\"http://www.w3.org/2000/svg\" height=\"24px\"viewBox=\"0 0 24 24\"\n",
              "     width=\"24px\">\n",
              "    <g>\n",
              "        <path d=\"M19 3H5c-1.1 0-2 .9-2 2v14c0 1.1.9 2 2 2h14c1.1 0 2-.9 2-2V5c0-1.1-.9-2-2-2zM9 17H7v-7h2v7zm4 0h-2V7h2v10zm4 0h-2v-4h2v4z\"/>\n",
              "    </g>\n",
              "</svg>\n",
              "  </button>\n",
              "\n",
              "<style>\n",
              "  .colab-df-quickchart {\n",
              "    background-color: #E8F0FE;\n",
              "    border: none;\n",
              "    border-radius: 50%;\n",
              "    cursor: pointer;\n",
              "    display: none;\n",
              "    fill: #1967D2;\n",
              "    height: 32px;\n",
              "    padding: 0 0 0 0;\n",
              "    width: 32px;\n",
              "  }\n",
              "\n",
              "  .colab-df-quickchart:hover {\n",
              "    background-color: #E2EBFA;\n",
              "    box-shadow: 0px 1px 2px rgba(60, 64, 67, 0.3), 0px 1px 3px 1px rgba(60, 64, 67, 0.15);\n",
              "    fill: #174EA6;\n",
              "  }\n",
              "\n",
              "  [theme=dark] .colab-df-quickchart {\n",
              "    background-color: #3B4455;\n",
              "    fill: #D2E3FC;\n",
              "  }\n",
              "\n",
              "  [theme=dark] .colab-df-quickchart:hover {\n",
              "    background-color: #434B5C;\n",
              "    box-shadow: 0px 1px 3px 1px rgba(0, 0, 0, 0.15);\n",
              "    filter: drop-shadow(0px 1px 2px rgba(0, 0, 0, 0.3));\n",
              "    fill: #FFFFFF;\n",
              "  }\n",
              "</style>\n",
              "\n",
              "  <script>\n",
              "    async function quickchart(key) {\n",
              "      const charts = await google.colab.kernel.invokeFunction(\n",
              "          'suggestCharts', [key], {});\n",
              "    }\n",
              "    (() => {\n",
              "      let quickchartButtonEl =\n",
              "        document.querySelector('#df-97b7407d-553b-4896-8c35-c396ef9bb1ba button');\n",
              "      quickchartButtonEl.style.display =\n",
              "        google.colab.kernel.accessAllowed ? 'block' : 'none';\n",
              "    })();\n",
              "  </script>\n",
              "</div>\n",
              "    </div>\n",
              "  </div>\n"
            ]
          },
          "metadata": {},
          "execution_count": 45
        }
      ]
    },
    {
      "cell_type": "markdown",
      "source": [
        "## CONVERTENDO 999.9 PARA VALOR NULO"
      ],
      "metadata": {
        "id": "Cta9InI5PhxT"
      }
    },
    {
      "cell_type": "code",
      "source": [
        "df_one_row_per_month[\"TEMPERATURE\"] = df_one_row_per_month[\"TEMPERATURE\"].apply(lambda x: None if x == 999.9 else x)"
      ],
      "metadata": {
        "id": "dy0MW1YiRcEP"
      },
      "execution_count": null,
      "outputs": []
    },
    {
      "cell_type": "markdown",
      "source": [
        "# ANÁLISE EXPLORATÓRIA"
      ],
      "metadata": {
        "id": "uqG2vY4diAJD"
      }
    },
    {
      "cell_type": "markdown",
      "source": [
        "Para possuir a maior quantidade de entradas, o foco será na análise com frequência de dados por meses do ano. Portanto removeremos as colunas que contém as médias trimestrais."
      ],
      "metadata": {
        "id": "uTWU8XQLo97G"
      }
    },
    {
      "cell_type": "code",
      "source": [
        "# QUANTIDADE DE ESTADOS DISTINTOS\n",
        "count_state = df[name_column_location].nunique()\n",
        "count_state"
      ],
      "metadata": {
        "colab": {
          "base_uri": "https://localhost:8080/"
        },
        "id": "ftB0tk8ciDmS",
        "outputId": "d8d99d9e-a4a5-4c8a-a4e7-7ea7bd154071"
      },
      "execution_count": null,
      "outputs": [
        {
          "output_type": "execute_result",
          "data": {
            "text/plain": [
              "12"
            ]
          },
          "metadata": {},
          "execution_count": 47
        }
      ]
    },
    {
      "cell_type": "code",
      "source": [
        "dict_describe_state = {}\n",
        "\n",
        "# DESCRIBE POR ESTADO\n",
        "\n",
        "# PERCORRENDO CADA UM DOS ESTADOS\n",
        "for state in df[name_column_location].unique():\n",
        "\n",
        "    # OBTENDO A QUANTIDADE DE DADOS VÁLIDOS\n",
        "    qtd_rows_valid = len(df_one_row_per_month[((df_one_row_per_month[name_column_location] == state) & (pd.notna(df_one_row_per_month[\"TEMPERATURE\"])))])\n",
        "\n",
        "    # OBTENDO O ANO MAIS ANTIGO\n",
        "    year_min = df_one_row_per_month[df_one_row_per_month[name_column_location] == state][\"YEAR\"].min()\n",
        "\n",
        "    # OBTENDO O ANO MAIS RECENTE\n",
        "    year_max = df_one_row_per_month[df_one_row_per_month[name_column_location] == state][\"YEAR\"].max()\n",
        "\n",
        "    # SALVANDO EM UM DICT DE DADOS\n",
        "    dict_describe_state[state] = {\"qtd_rows\": qtd_rows_valid,\n",
        "                                  \"year_min\": year_min,\n",
        "                                  \"year_max\": year_max}\n"
      ],
      "metadata": {
        "id": "CjF1t0eXjnAP"
      },
      "execution_count": null,
      "outputs": []
    },
    {
      "cell_type": "code",
      "source": [
        "# Ordenar os estados pelo valor de qtd_rows em ordem decrescente\n",
        "sorted_states = sorted(dict_describe_state.keys(),\n",
        "                       key=lambda x: dict_describe_state[x]['qtd_rows'],\n",
        "                       reverse=True)\n",
        "qtd_rows = [dict_describe_state[state]['qtd_rows'] for state in sorted_states]\n",
        "year_min = [dict_describe_state[state]['year_min'] for state in sorted_states]\n",
        "year_max = [dict_describe_state[state]['year_max'] for state in sorted_states]\n",
        "\n",
        "plt.figure(figsize=(10, 6))\n",
        "bars = plt.bar(sorted_states, qtd_rows, color='skyblue', label='Quantidade de informações medidas')\n",
        "plt.xlabel('Estados')\n",
        "plt.ylabel('Quantidade de informações medidas')\n",
        "plt.title('Quantidade de informações medidas por estado')\n",
        "plt.xticks(rotation=45, ha='right')\n",
        "\n",
        "for i, bar in enumerate(bars):\n",
        "    plt.text(bar.get_x() + bar.get_width() / 2, bar.get_height() + 10,\n",
        "             f'{year_min[i]}-{year_max[i]}',\n",
        "             ha='center',\n",
        "             fontsize=9,\n",
        "             color='gray')\n",
        "\n",
        "plt.tight_layout()\n",
        "plt.legend()\n",
        "plt.grid(False)\n",
        "\n",
        "plt.savefig(\"plot_ghcn_montly_qtd_rows_state.png\", dpi=300)\n",
        "\n",
        "plt.show()"
      ],
      "metadata": {
        "id": "tgR8xL7BbDXr",
        "outputId": "47952d1e-f582-4ba4-daf0-7d55703aba70",
        "colab": {
          "base_uri": "https://localhost:8080/",
          "height": 607
        }
      },
      "execution_count": null,
      "outputs": [
        {
          "output_type": "display_data",
          "data": {
            "text/plain": [
              "<Figure size 1000x600 with 1 Axes>"
            ],
            "image/png": "[encoded data removed]"
          },
          "metadata": {}
        }
      ]
    },
    {
      "cell_type": "markdown",
      "source": [
        "## ANALISANDO VALORES FALTANTES"
      ],
      "metadata": {
        "id": "iSAd5FefhxxT"
      }
    },
    {
      "cell_type": "markdown",
      "source": [
        "## VISÃO MÊS"
      ],
      "metadata": {
        "id": "G29v-CWzUYiY"
      }
    },
    {
      "cell_type": "code",
      "source": [
        "sns.set_style(\"whitegrid\")\n",
        "\n",
        "p = sns.displot(\n",
        "    data=df.eq(999.9).melt(value_name=\"missing\"),\n",
        "    y=\"variable\",\n",
        "    hue=\"missing\",\n",
        "    multiple=\"fill\",\n",
        "    aspect=1.25\n",
        ")\n",
        "\n",
        "p.fig.set_dpi(100)\n",
        "\n",
        "plt.title('Visão mês - valores faltantes por variável')\n",
        "plt.show()\n",
        "p.savefig(\"plot_ghcn_montly_missing_values_i.png\")"
      ],
      "metadata": {
        "id": "6ocsEvhEUYGw",
        "outputId": "afc5365b-d8cd-4d21-d41e-971fde06e2ee",
        "colab": {
          "base_uri": "https://localhost:8080/",
          "height": 529
        }
      },
      "execution_count": null,
      "outputs": [
        {
          "output_type": "display_data",
          "data": {
            "text/plain": [
              "<Figure size 709.875x500 with 1 Axes>"
            ],
            "image/png": "[encoded data removed]"
          },
          "metadata": {}
        }
      ]
    },
    {
      "cell_type": "markdown",
      "source": [
        "## VISÃO COLUNA DE TEMPERATURA, INDEPENDENTE DO MÊS"
      ],
      "metadata": {
        "id": "s7NXczw-UYqr"
      }
    },
    {
      "cell_type": "code",
      "execution_count": null,
      "metadata": {
        "id": "_k--fB9yYttV",
        "outputId": "de7e58c7-d56f-4c58-c841-cdf6b48bc02e",
        "colab": {
          "base_uri": "https://localhost:8080/",
          "height": 529
        }
      },
      "outputs": [
        {
          "output_type": "display_data",
          "data": {
            "text/plain": [
              "<Figure size 709.875x500 with 1 Axes>"
            ],
            "image/png": "[encoded data removed]"
          },
          "metadata": {}
        }
      ],
      "source": [
        "sns.set_style(\"whitegrid\")\n",
        "\n",
        "p = sns.displot(\n",
        "    data=df_one_row_per_month.isna().melt(value_name=\"missing\"),\n",
        "    y=\"variable\",\n",
        "    hue=\"missing\",\n",
        "    multiple=\"fill\",\n",
        "    aspect=1.25\n",
        ")\n",
        "\n",
        "p.fig.set_dpi(100)\n",
        "\n",
        "plt.title('Visão independente do mês - valores faltantes por variável')\n",
        "plt.show()\n",
        "p.savefig(\"plot_ghcn_montly_missing_values_ii.png\")"
      ]
    }
  ],
  "metadata": {
    "kernelspec": {
      "display_name": "Python 3",
      "language": "python",
      "name": "python3"
    },
    "language_info": {
      "codemirror_mode": {
        "name": "ipython",
        "version": 3
      },
      "file_extension": ".py",
      "mimetype": "text/x-python",
      "name": "python",
      "nbconvert_exporter": "python",
      "pygments_lexer": "ipython3",
      "version": "3.7.6"
    },
    "colab": {
      "provenance": []
    }
  },
  "nbformat": 4,
  "nbformat_minor": 0
}